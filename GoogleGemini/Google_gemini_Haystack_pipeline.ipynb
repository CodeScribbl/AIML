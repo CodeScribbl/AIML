{
  "nbformat": 4,
  "nbformat_minor": 0,
  "metadata": {
    "colab": {
      "provenance": [],
      "authorship_tag": "ABX9TyOjKWAT+GaUvINJfS0D7djz",
      "include_colab_link": true
    },
    "kernelspec": {
      "name": "python3",
      "display_name": "Python 3"
    },
    "language_info": {
      "name": "python"
    }
  },
  "cells": [
    {
      "cell_type": "markdown",
      "metadata": {
        "id": "view-in-github",
        "colab_type": "text"
      },
      "source": [
        "<a href=\"https://colab.research.google.com/github/Somabss1/AIML/blob/main/GoogleGemini/Google_gemini_Haystack_pipeline.ipynb\" target=\"_parent\"><img src=\"https://colab.research.google.com/assets/colab-badge.svg\" alt=\"Open In Colab\"/></a>"
      ]
    },
    {
      "cell_type": "markdown",
      "source": [],
      "metadata": {
        "id": "0vdineb1Q596"
      }
    },
    {
      "cell_type": "markdown",
      "source": [],
      "metadata": {
        "id": "6z-mYgwORAEt"
      }
    },
    {
      "cell_type": "code",
      "source": [
        "!pip install haystack-ai haystack-experimental sentence-transformers transformers gradio huggingface_hub cohere-haystack\n",
        "!pip install python-dotenv colorama trafilatura\n"
      ],
      "metadata": {
        "colab": {
          "base_uri": "https://localhost:8080/"
        },
        "id": "0i8QcxT7Q_u0",
        "outputId": "f27150a5-5dc3-4dd6-ef1e-cfa9f621dd04"
      },
      "execution_count": 13,
      "outputs": [
        {
          "output_type": "stream",
          "name": "stdout",
          "text": [
            "Requirement already satisfied: haystack-ai in /usr/local/lib/python3.10/dist-packages (2.4.0)\n",
            "Requirement already satisfied: haystack-experimental in /usr/local/lib/python3.10/dist-packages (0.1.1)\n",
            "Requirement already satisfied: sentence-transformers in /usr/local/lib/python3.10/dist-packages (3.0.1)\n",
            "Requirement already satisfied: transformers in /usr/local/lib/python3.10/dist-packages (4.42.4)\n",
            "Requirement already satisfied: gradio in /usr/local/lib/python3.10/dist-packages (4.42.0)\n",
            "Requirement already satisfied: huggingface_hub in /usr/local/lib/python3.10/dist-packages (0.23.5)\n",
            "Requirement already satisfied: cohere-haystack in /usr/local/lib/python3.10/dist-packages (1.1.3)\n",
            "Requirement already satisfied: jinja2 in /usr/local/lib/python3.10/dist-packages (from haystack-ai) (3.1.4)\n",
            "Requirement already satisfied: lazy-imports in /usr/local/lib/python3.10/dist-packages (from haystack-ai) (0.3.1)\n",
            "Requirement already satisfied: more-itertools in /usr/local/lib/python3.10/dist-packages (from haystack-ai) (10.3.0)\n",
            "Requirement already satisfied: networkx in /usr/local/lib/python3.10/dist-packages (from haystack-ai) (3.3)\n",
            "Requirement already satisfied: numpy<2 in /usr/local/lib/python3.10/dist-packages (from haystack-ai) (1.26.4)\n",
            "Requirement already satisfied: openai>=1.1.0 in /usr/local/lib/python3.10/dist-packages (from haystack-ai) (1.42.0)\n",
            "Requirement already satisfied: pandas in /usr/local/lib/python3.10/dist-packages (from haystack-ai) (2.1.4)\n",
            "Requirement already satisfied: posthog in /usr/local/lib/python3.10/dist-packages (from haystack-ai) (3.5.2)\n",
            "Requirement already satisfied: python-dateutil in /usr/local/lib/python3.10/dist-packages (from haystack-ai) (2.8.2)\n",
            "Requirement already satisfied: pyyaml in /usr/local/lib/python3.10/dist-packages (from haystack-ai) (6.0.2)\n",
            "Requirement already satisfied: requests in /usr/local/lib/python3.10/dist-packages (from haystack-ai) (2.32.3)\n",
            "Requirement already satisfied: tenacity!=8.4.0 in /usr/local/lib/python3.10/dist-packages (from haystack-ai) (9.0.0)\n",
            "Requirement already satisfied: tqdm in /usr/local/lib/python3.10/dist-packages (from haystack-ai) (4.66.5)\n",
            "Requirement already satisfied: typing-extensions>=4.7 in /usr/local/lib/python3.10/dist-packages (from haystack-ai) (4.12.2)\n",
            "Requirement already satisfied: torch>=1.11.0 in /usr/local/lib/python3.10/dist-packages (from sentence-transformers) (2.3.1+cu121)\n",
            "Requirement already satisfied: scikit-learn in /usr/local/lib/python3.10/dist-packages (from sentence-transformers) (1.3.2)\n",
            "Requirement already satisfied: scipy in /usr/local/lib/python3.10/dist-packages (from sentence-transformers) (1.13.1)\n",
            "Requirement already satisfied: Pillow in /usr/local/lib/python3.10/dist-packages (from sentence-transformers) (9.4.0)\n",
            "Requirement already satisfied: filelock in /usr/local/lib/python3.10/dist-packages (from transformers) (3.15.4)\n",
            "Requirement already satisfied: packaging>=20.0 in /usr/local/lib/python3.10/dist-packages (from transformers) (24.1)\n",
            "Requirement already satisfied: regex!=2019.12.17 in /usr/local/lib/python3.10/dist-packages (from transformers) (2024.5.15)\n",
            "Requirement already satisfied: safetensors>=0.4.1 in /usr/local/lib/python3.10/dist-packages (from transformers) (0.4.4)\n",
            "Requirement already satisfied: tokenizers<0.20,>=0.19 in /usr/local/lib/python3.10/dist-packages (from transformers) (0.19.1)\n",
            "Requirement already satisfied: aiofiles<24.0,>=22.0 in /usr/local/lib/python3.10/dist-packages (from gradio) (23.2.1)\n",
            "Requirement already satisfied: anyio<5.0,>=3.0 in /usr/local/lib/python3.10/dist-packages (from gradio) (3.7.1)\n",
            "Requirement already satisfied: fastapi in /usr/local/lib/python3.10/dist-packages (from gradio) (0.112.1)\n",
            "Requirement already satisfied: ffmpy in /usr/local/lib/python3.10/dist-packages (from gradio) (0.4.0)\n",
            "Requirement already satisfied: gradio-client==1.3.0 in /usr/local/lib/python3.10/dist-packages (from gradio) (1.3.0)\n",
            "Requirement already satisfied: httpx>=0.24.1 in /usr/local/lib/python3.10/dist-packages (from gradio) (0.27.0)\n",
            "Requirement already satisfied: importlib-resources<7.0,>=1.3 in /usr/local/lib/python3.10/dist-packages (from gradio) (6.4.3)\n",
            "Requirement already satisfied: markupsafe~=2.0 in /usr/local/lib/python3.10/dist-packages (from gradio) (2.1.5)\n",
            "Requirement already satisfied: matplotlib~=3.0 in /usr/local/lib/python3.10/dist-packages (from gradio) (3.7.1)\n",
            "Requirement already satisfied: orjson~=3.0 in /usr/local/lib/python3.10/dist-packages (from gradio) (3.10.7)\n",
            "Requirement already satisfied: pydantic>=2.0 in /usr/local/lib/python3.10/dist-packages (from gradio) (2.8.2)\n",
            "Requirement already satisfied: pydub in /usr/local/lib/python3.10/dist-packages (from gradio) (0.25.1)\n",
            "Requirement already satisfied: python-multipart>=0.0.9 in /usr/local/lib/python3.10/dist-packages (from gradio) (0.0.9)\n",
            "Requirement already satisfied: ruff>=0.2.2 in /usr/local/lib/python3.10/dist-packages (from gradio) (0.6.2)\n",
            "Requirement already satisfied: semantic-version~=2.0 in /usr/local/lib/python3.10/dist-packages (from gradio) (2.10.0)\n",
            "Requirement already satisfied: tomlkit==0.12.0 in /usr/local/lib/python3.10/dist-packages (from gradio) (0.12.0)\n",
            "Requirement already satisfied: typer<1.0,>=0.12 in /usr/local/lib/python3.10/dist-packages (from gradio) (0.12.4)\n",
            "Requirement already satisfied: urllib3~=2.0 in /usr/local/lib/python3.10/dist-packages (from gradio) (2.0.7)\n",
            "Requirement already satisfied: uvicorn>=0.14.0 in /usr/local/lib/python3.10/dist-packages (from gradio) (0.30.6)\n",
            "Requirement already satisfied: fsspec in /usr/local/lib/python3.10/dist-packages (from gradio-client==1.3.0->gradio) (2024.6.1)\n",
            "Requirement already satisfied: websockets<13.0,>=10.0 in /usr/local/lib/python3.10/dist-packages (from gradio-client==1.3.0->gradio) (12.0)\n",
            "Requirement already satisfied: cohere==5.* in /usr/local/lib/python3.10/dist-packages (from cohere-haystack) (5.8.1)\n",
            "Requirement already satisfied: boto3<2.0.0,>=1.34.0 in /usr/local/lib/python3.10/dist-packages (from cohere==5.*->cohere-haystack) (1.35.4)\n",
            "Requirement already satisfied: fastavro<2.0.0,>=1.9.4 in /usr/local/lib/python3.10/dist-packages (from cohere==5.*->cohere-haystack) (1.9.5)\n",
            "Requirement already satisfied: httpx-sse==0.4.0 in /usr/local/lib/python3.10/dist-packages (from cohere==5.*->cohere-haystack) (0.4.0)\n",
            "Requirement already satisfied: parameterized<0.10.0,>=0.9.0 in /usr/local/lib/python3.10/dist-packages (from cohere==5.*->cohere-haystack) (0.9.0)\n",
            "Requirement already satisfied: pydantic-core<3.0.0,>=2.18.2 in /usr/local/lib/python3.10/dist-packages (from cohere==5.*->cohere-haystack) (2.20.1)\n",
            "Requirement already satisfied: types-requests<3.0.0,>=2.0.0 in /usr/local/lib/python3.10/dist-packages (from cohere==5.*->cohere-haystack) (2.32.0.20240712)\n",
            "Requirement already satisfied: idna>=2.8 in /usr/local/lib/python3.10/dist-packages (from anyio<5.0,>=3.0->gradio) (3.7)\n",
            "Requirement already satisfied: sniffio>=1.1 in /usr/local/lib/python3.10/dist-packages (from anyio<5.0,>=3.0->gradio) (1.3.1)\n",
            "Requirement already satisfied: exceptiongroup in /usr/local/lib/python3.10/dist-packages (from anyio<5.0,>=3.0->gradio) (1.2.2)\n",
            "Requirement already satisfied: certifi in /usr/local/lib/python3.10/dist-packages (from httpx>=0.24.1->gradio) (2024.7.4)\n",
            "Requirement already satisfied: httpcore==1.* in /usr/local/lib/python3.10/dist-packages (from httpx>=0.24.1->gradio) (1.0.5)\n",
            "Requirement already satisfied: h11<0.15,>=0.13 in /usr/local/lib/python3.10/dist-packages (from httpcore==1.*->httpx>=0.24.1->gradio) (0.14.0)\n",
            "Requirement already satisfied: contourpy>=1.0.1 in /usr/local/lib/python3.10/dist-packages (from matplotlib~=3.0->gradio) (1.2.1)\n",
            "Requirement already satisfied: cycler>=0.10 in /usr/local/lib/python3.10/dist-packages (from matplotlib~=3.0->gradio) (0.12.1)\n",
            "Requirement already satisfied: fonttools>=4.22.0 in /usr/local/lib/python3.10/dist-packages (from matplotlib~=3.0->gradio) (4.53.1)\n",
            "Requirement already satisfied: kiwisolver>=1.0.1 in /usr/local/lib/python3.10/dist-packages (from matplotlib~=3.0->gradio) (1.4.5)\n",
            "Requirement already satisfied: pyparsing>=2.3.1 in /usr/local/lib/python3.10/dist-packages (from matplotlib~=3.0->gradio) (3.1.2)\n",
            "Requirement already satisfied: distro<2,>=1.7.0 in /usr/lib/python3/dist-packages (from openai>=1.1.0->haystack-ai) (1.7.0)\n",
            "Requirement already satisfied: jiter<1,>=0.4.0 in /usr/local/lib/python3.10/dist-packages (from openai>=1.1.0->haystack-ai) (0.5.0)\n",
            "Requirement already satisfied: pytz>=2020.1 in /usr/local/lib/python3.10/dist-packages (from pandas->haystack-ai) (2024.1)\n",
            "Requirement already satisfied: tzdata>=2022.1 in /usr/local/lib/python3.10/dist-packages (from pandas->haystack-ai) (2024.1)\n",
            "Requirement already satisfied: annotated-types>=0.4.0 in /usr/local/lib/python3.10/dist-packages (from pydantic>=2.0->gradio) (0.7.0)\n",
            "Requirement already satisfied: six>=1.5 in /usr/local/lib/python3.10/dist-packages (from python-dateutil->haystack-ai) (1.16.0)\n",
            "Requirement already satisfied: charset-normalizer<4,>=2 in /usr/local/lib/python3.10/dist-packages (from requests->haystack-ai) (3.3.2)\n",
            "Requirement already satisfied: sympy in /usr/local/lib/python3.10/dist-packages (from torch>=1.11.0->sentence-transformers) (1.13.2)\n",
            "Requirement already satisfied: nvidia-cuda-nvrtc-cu12==12.1.105 in /usr/local/lib/python3.10/dist-packages (from torch>=1.11.0->sentence-transformers) (12.1.105)\n",
            "Requirement already satisfied: nvidia-cuda-runtime-cu12==12.1.105 in /usr/local/lib/python3.10/dist-packages (from torch>=1.11.0->sentence-transformers) (12.1.105)\n",
            "Requirement already satisfied: nvidia-cuda-cupti-cu12==12.1.105 in /usr/local/lib/python3.10/dist-packages (from torch>=1.11.0->sentence-transformers) (12.1.105)\n",
            "Requirement already satisfied: nvidia-cudnn-cu12==8.9.2.26 in /usr/local/lib/python3.10/dist-packages (from torch>=1.11.0->sentence-transformers) (8.9.2.26)\n",
            "Requirement already satisfied: nvidia-cublas-cu12==12.1.3.1 in /usr/local/lib/python3.10/dist-packages (from torch>=1.11.0->sentence-transformers) (12.1.3.1)\n",
            "Requirement already satisfied: nvidia-cufft-cu12==11.0.2.54 in /usr/local/lib/python3.10/dist-packages (from torch>=1.11.0->sentence-transformers) (11.0.2.54)\n",
            "Requirement already satisfied: nvidia-curand-cu12==10.3.2.106 in /usr/local/lib/python3.10/dist-packages (from torch>=1.11.0->sentence-transformers) (10.3.2.106)\n",
            "Requirement already satisfied: nvidia-cusolver-cu12==11.4.5.107 in /usr/local/lib/python3.10/dist-packages (from torch>=1.11.0->sentence-transformers) (11.4.5.107)\n",
            "Requirement already satisfied: nvidia-cusparse-cu12==12.1.0.106 in /usr/local/lib/python3.10/dist-packages (from torch>=1.11.0->sentence-transformers) (12.1.0.106)\n",
            "Requirement already satisfied: nvidia-nccl-cu12==2.20.5 in /usr/local/lib/python3.10/dist-packages (from torch>=1.11.0->sentence-transformers) (2.20.5)\n",
            "Requirement already satisfied: nvidia-nvtx-cu12==12.1.105 in /usr/local/lib/python3.10/dist-packages (from torch>=1.11.0->sentence-transformers) (12.1.105)\n",
            "Requirement already satisfied: triton==2.3.1 in /usr/local/lib/python3.10/dist-packages (from torch>=1.11.0->sentence-transformers) (2.3.1)\n",
            "Requirement already satisfied: nvidia-nvjitlink-cu12 in /usr/local/lib/python3.10/dist-packages (from nvidia-cusolver-cu12==11.4.5.107->torch>=1.11.0->sentence-transformers) (12.6.20)\n",
            "Requirement already satisfied: click>=8.0.0 in /usr/local/lib/python3.10/dist-packages (from typer<1.0,>=0.12->gradio) (8.1.7)\n",
            "Requirement already satisfied: shellingham>=1.3.0 in /usr/local/lib/python3.10/dist-packages (from typer<1.0,>=0.12->gradio) (1.5.4)\n",
            "Requirement already satisfied: rich>=10.11.0 in /usr/local/lib/python3.10/dist-packages (from typer<1.0,>=0.12->gradio) (13.7.1)\n",
            "Requirement already satisfied: starlette<0.39.0,>=0.37.2 in /usr/local/lib/python3.10/dist-packages (from fastapi->gradio) (0.38.2)\n",
            "Requirement already satisfied: monotonic>=1.5 in /usr/local/lib/python3.10/dist-packages (from posthog->haystack-ai) (1.6)\n",
            "Requirement already satisfied: backoff>=1.10.0 in /usr/local/lib/python3.10/dist-packages (from posthog->haystack-ai) (2.2.1)\n",
            "Requirement already satisfied: joblib>=1.1.1 in /usr/local/lib/python3.10/dist-packages (from scikit-learn->sentence-transformers) (1.4.2)\n",
            "Requirement already satisfied: threadpoolctl>=2.0.0 in /usr/local/lib/python3.10/dist-packages (from scikit-learn->sentence-transformers) (3.5.0)\n",
            "Requirement already satisfied: botocore<1.36.0,>=1.35.4 in /usr/local/lib/python3.10/dist-packages (from boto3<2.0.0,>=1.34.0->cohere==5.*->cohere-haystack) (1.35.4)\n",
            "Requirement already satisfied: jmespath<2.0.0,>=0.7.1 in /usr/local/lib/python3.10/dist-packages (from boto3<2.0.0,>=1.34.0->cohere==5.*->cohere-haystack) (1.0.1)\n",
            "Requirement already satisfied: s3transfer<0.11.0,>=0.10.0 in /usr/local/lib/python3.10/dist-packages (from boto3<2.0.0,>=1.34.0->cohere==5.*->cohere-haystack) (0.10.2)\n",
            "Requirement already satisfied: markdown-it-py>=2.2.0 in /usr/local/lib/python3.10/dist-packages (from rich>=10.11.0->typer<1.0,>=0.12->gradio) (3.0.0)\n",
            "Requirement already satisfied: pygments<3.0.0,>=2.13.0 in /usr/local/lib/python3.10/dist-packages (from rich>=10.11.0->typer<1.0,>=0.12->gradio) (2.16.1)\n",
            "Requirement already satisfied: mpmath<1.4,>=1.1.0 in /usr/local/lib/python3.10/dist-packages (from sympy->torch>=1.11.0->sentence-transformers) (1.3.0)\n",
            "Requirement already satisfied: mdurl~=0.1 in /usr/local/lib/python3.10/dist-packages (from markdown-it-py>=2.2.0->rich>=10.11.0->typer<1.0,>=0.12->gradio) (0.1.2)\n",
            "Requirement already satisfied: python-dotenv in /usr/local/lib/python3.10/dist-packages (1.0.1)\n",
            "Requirement already satisfied: colorama in /usr/local/lib/python3.10/dist-packages (0.4.6)\n",
            "Requirement already satisfied: trafilatura in /usr/local/lib/python3.10/dist-packages (1.12.1)\n",
            "Requirement already satisfied: certifi in /usr/local/lib/python3.10/dist-packages (from trafilatura) (2024.7.4)\n",
            "Requirement already satisfied: courlan>=1.2.0 in /usr/local/lib/python3.10/dist-packages (from trafilatura) (1.3.0)\n",
            "Requirement already satisfied: htmldate>=1.8.1 in /usr/local/lib/python3.10/dist-packages (from trafilatura) (1.8.1)\n",
            "Requirement already satisfied: justext>=3.0.1 in /usr/local/lib/python3.10/dist-packages (from trafilatura) (3.0.1)\n",
            "Requirement already satisfied: lxml>=5.2.2 in /usr/local/lib/python3.10/dist-packages (from trafilatura) (5.3.0)\n",
            "Requirement already satisfied: charset-normalizer>=3.2.0 in /usr/local/lib/python3.10/dist-packages (from trafilatura) (3.3.2)\n",
            "Requirement already satisfied: urllib3<3,>=1.26 in /usr/local/lib/python3.10/dist-packages (from trafilatura) (2.0.7)\n",
            "Requirement already satisfied: babel>=2.15.0 in /usr/local/lib/python3.10/dist-packages (from courlan>=1.2.0->trafilatura) (2.16.0)\n",
            "Requirement already satisfied: tld>=0.13 in /usr/local/lib/python3.10/dist-packages (from courlan>=1.2.0->trafilatura) (0.13)\n",
            "Requirement already satisfied: dateparser>=1.1.2 in /usr/local/lib/python3.10/dist-packages (from htmldate>=1.8.1->trafilatura) (1.2.0)\n",
            "Requirement already satisfied: python-dateutil>=2.8.2 in /usr/local/lib/python3.10/dist-packages (from htmldate>=1.8.1->trafilatura) (2.8.2)\n",
            "Requirement already satisfied: pytz in /usr/local/lib/python3.10/dist-packages (from dateparser>=1.1.2->htmldate>=1.8.1->trafilatura) (2024.1)\n",
            "Requirement already satisfied: regex!=2019.02.19,!=2021.8.27 in /usr/local/lib/python3.10/dist-packages (from dateparser>=1.1.2->htmldate>=1.8.1->trafilatura) (2024.5.15)\n",
            "Requirement already satisfied: tzlocal in /usr/local/lib/python3.10/dist-packages (from dateparser>=1.1.2->htmldate>=1.8.1->trafilatura) (5.2)\n",
            "Requirement already satisfied: lxml-html-clean in /usr/local/lib/python3.10/dist-packages (from lxml[html_clean]>=4.4.2->justext>=3.0.1->trafilatura) (0.2.0)\n",
            "Requirement already satisfied: six>=1.5 in /usr/local/lib/python3.10/dist-packages (from python-dateutil>=2.8.2->htmldate>=1.8.1->trafilatura) (1.16.0)\n",
            "Requirement already satisfied: pip in /usr/local/lib/python3.10/dist-packages (24.1.2)\n",
            "\u001b[31mERROR: Could not find a version that satisfies the requirement install (from versions: none)\u001b[0m\u001b[31m\n",
            "\u001b[0m\u001b[31mERROR: No matching distribution found for install\u001b[0m\u001b[31m\n",
            "\u001b[0m"
          ]
        }
      ]
    },
    {
      "cell_type": "code",
      "source": [
        "!pip install google-ai-haystack\n"
      ],
      "metadata": {
        "colab": {
          "base_uri": "https://localhost:8080/"
        },
        "id": "7BM9StbxTMXe",
        "outputId": "c333e7d8-b8b8-4300-cd32-5b130899d889"
      },
      "execution_count": 18,
      "outputs": [
        {
          "output_type": "stream",
          "name": "stdout",
          "text": [
            "Requirement already satisfied: google-ai-haystack in /usr/local/lib/python3.10/dist-packages (1.1.1)\n",
            "\u001b[31mERROR: Could not find a version that satisfies the requirement haystack_integrations (from versions: none)\u001b[0m\u001b[31m\n",
            "\u001b[0m\u001b[31mERROR: No matching distribution found for haystack_integrations\u001b[0m\u001b[31m\n",
            "\u001b[0m"
          ]
        }
      ]
    },
    {
      "cell_type": "code",
      "execution_count": 14,
      "metadata": {
        "id": "q-sWiNi2Q3SL"
      },
      "outputs": [],
      "source": [
        "import warnings\n",
        "#from helper import load_env\n",
        "\n",
        "warnings.filterwarnings('ignore')\n",
        "#load_env()"
      ]
    },
    {
      "cell_type": "code",
      "source": [
        "import requests\n",
        "import os\n",
        "\n",
        "from typing import List\n",
        "\n",
        "from haystack import Document, Pipeline, component\n",
        "from haystack.components.builders import PromptBuilder\n",
        "from haystack.components.generators.openai import OpenAIGenerator\n",
        "from haystack.components.fetchers import LinkContentFetcher\n",
        "from haystack.components.converters import HTMLToDocument\n",
        "import google.generativeai as genai\n",
        "from haystack_integrations.components.generators.google_ai import GoogleAIGeminiGenerator\n"
      ],
      "metadata": {
        "id": "C0L5wBVbRvog"
      },
      "execution_count": 28,
      "outputs": []
    },
    {
      "cell_type": "code",
      "source": [
        "from google.colab import userdata\n",
        "genai.configure(api_key=userdata.get(\"GOOGLE_API_KEY\"))"
      ],
      "metadata": {
        "id": "8H_PUtkFSsP0"
      },
      "execution_count": 23,
      "outputs": []
    },
    {
      "cell_type": "code",
      "source": [
        "trending_list = requests.get(\n",
        "        url=\"https://hacker-news.firebaseio.com/v0/topstories.json?print=pretty\"\n",
        "    )\n",
        "post = requests.get(\n",
        "    url=f\"https://hacker-news.firebaseio.com/v0/item/{trending_list.json()[0]}.json?print=pretty\"\n",
        ")\n",
        "\n",
        "print(post.json())"
      ],
      "metadata": {
        "colab": {
          "base_uri": "https://localhost:8080/"
        },
        "id": "h-dsuCWFRxpL",
        "outputId": "c4aa4476-13b5-48e2-f197-36a96aa0c0d8"
      },
      "execution_count": 5,
      "outputs": [
        {
          "output_type": "stream",
          "name": "stdout",
          "text": [
            "{'by': 'nell', 'descendants': 36, 'id': 41330478, 'kids': [41330893, 41330698, 41330995, 41330925, 41330663, 41330664, 41330899, 41330644, 41330655, 41330829, 41330728, 41330959, 41330479, 41330888, 41330764, 41330742], 'score': 63, 'time': 1724431098, 'title': 'Cautionary tale on using Chase bank for indie business', 'type': 'story', 'url': 'https://jxnl.co/writing/2024/09/21/chase-bank-small-business-nightmare/'}\n"
          ]
        }
      ]
    },
    {
      "cell_type": "code",
      "source": [
        "@component\n",
        "class HackernewsNewestFetcher:\n",
        "    @component.output_types(articles=List[Document])\n",
        "    def run(self, top_k: int):\n",
        "        articles = []\n",
        "        return {\"articles\": articles}"
      ],
      "metadata": {
        "id": "3bR1bT3XR6NH"
      },
      "execution_count": 6,
      "outputs": []
    },
    {
      "cell_type": "code",
      "source": [
        "@component\n",
        "class HackernewsNewestFetcher:\n",
        "    def __init__(self):\n",
        "        fetcher = LinkContentFetcher()\n",
        "        converter = HTMLToDocument()\n",
        "\n",
        "        html_conversion_pipeline = Pipeline()\n",
        "        html_conversion_pipeline.add_component(\"fetcher\", fetcher)\n",
        "        html_conversion_pipeline.add_component(\"converter\", converter)\n",
        "\n",
        "        html_conversion_pipeline.connect(\"fetcher\", \"converter\")\n",
        "        self.html_pipeline = html_conversion_pipeline\n",
        "\n",
        "    @component.output_types(articles=List[Document])\n",
        "    def run(self, top_k: int):\n",
        "        articles = []\n",
        "        trending_list = requests.get(\n",
        "            url=\"https://hacker-news.firebaseio.com/v0/topstories.json?print=pretty\"\n",
        "        )\n",
        "        for id in trending_list.json()[0:top_k]:\n",
        "            post = requests.get(\n",
        "                url=f\"https://hacker-news.firebaseio.com/v0/item/{id}.json?print=pretty\"\n",
        "            )\n",
        "            if \"url\" in post.json():\n",
        "                try:\n",
        "                    article = self.html_pipeline.run(\n",
        "                        {\"fetcher\": {\"urls\": [post.json()[\"url\"]]}}\n",
        "                    )\n",
        "                    articles.append(article[\"converter\"][\"documents\"][0])\n",
        "                except:\n",
        "                    print(f\"Can't download {post}, skipped\")\n",
        "            elif \"text\" in post.json():\n",
        "                try:\n",
        "                    articles.append(Document(content=post.json()[\"text\"], meta= {\"title\": post.json()[\"title\"]}))\n",
        "                except:\n",
        "                    print(f\"Can't download {post}, skipped\")\n",
        "        return {\"articles\": articles}"
      ],
      "metadata": {
        "id": "HINiRUVtR8vr"
      },
      "execution_count": 37,
      "outputs": []
    },
    {
      "cell_type": "code",
      "source": [
        "fetcher = HackernewsNewestFetcher()\n",
        "results = fetcher.run(top_k=3)\n",
        "\n",
        "print(results['articles'])"
      ],
      "metadata": {
        "colab": {
          "base_uri": "https://localhost:8080/"
        },
        "id": "mU84XvhzSATp",
        "outputId": "ecc59a54-e493-4408-bad6-d670601059e6"
      },
      "execution_count": 38,
      "outputs": [
        {
          "output_type": "stream",
          "name": "stdout",
          "text": [
            "[Document(id=a515523a5138ce22a9c09d0b6d39e157d03a4da00362a0bbb335637aed4f09c2, content: 'The goal of this project is to reimplement enough of the original Unreal Engine to make the Unreal T...', meta: {'content_type': 'text/html', 'url': 'https://github.com/dpjudas/SurrealEngine'}), Document(id=4b9b4b202e14cf359feaef2606909cec2c146b2cf8f986abdf946954ba6e478b, content: 'OpenSSH Backdoors\n",
            "Imagine this: an OpenSSH backdoor is discovered, maintainers rush to push out a fi...', meta: {'content_type': 'text/html', 'url': 'https://blog.isosceles.com/openssh-backdoors/'}), Document(id=eff933fc722511b1297f5f20305a1328f777cfc0bce13643b29607fe8e175dc4, content: '23 August 2024\n",
            "A page is the granularity at which an operating system manages memory. Most CPUs toda...', meta: {'content_type': 'text/html', 'url': 'https://android-developers.googleblog.com/2024/08/adding-16-kb-page-size-to-android.html'})]\n"
          ]
        }
      ]
    },
    {
      "cell_type": "code",
      "source": [
        "prompt_template = \"\"\"\n",
        "You will be provided a few of the top posts in HackerNews.\n",
        "For each post, provide a brief summary if possible.\n",
        "\n",
        "Posts:\n",
        "{% for article in articles %}\n",
        "  Post:\\n\n",
        "  {{ article.content}}\n",
        "{% endfor %}\n",
        "\"\"\""
      ],
      "metadata": {
        "id": "tSSsLGtrSCdL"
      },
      "execution_count": 40,
      "outputs": []
    },
    {
      "cell_type": "code",
      "source": [
        "os.environ[\"GOOGLE_API_KEY\"] =  \"<your_google_api_key\"\n",
        "prompt_builder = PromptBuilder(template=prompt_template)\n",
        "fetcher = HackernewsNewestFetcher()\n",
        "llm = GoogleAIGeminiGenerator(model=\"gemini-1.5-flash\")\n",
        "\n",
        "\n",
        "\n",
        "\n",
        "summarizer_pipeline = Pipeline()\n",
        "summarizer_pipeline.add_component(\"fetcher\", fetcher)\n",
        "summarizer_pipeline.add_component(\"prompt\", prompt_builder)\n",
        "summarizer_pipeline.add_component(\"llm\", llm)\n",
        "\n",
        "summarizer_pipeline.connect(\"fetcher.articles\", \"prompt.articles\")\n",
        "summarizer_pipeline.connect(\"prompt\", \"llm\")"
      ],
      "metadata": {
        "colab": {
          "base_uri": "https://localhost:8080/"
        },
        "id": "67JUdQMbSHQp",
        "outputId": "14bd8a94-c734-4305-aa54-25700a8cb60e"
      },
      "execution_count": 29,
      "outputs": [
        {
          "output_type": "execute_result",
          "data": {
            "text/plain": [
              "<haystack.core.pipeline.pipeline.Pipeline object at 0x7cc7b77a8f40>\n",
              "🚅 Components\n",
              "  - fetcher: HackernewsNewestFetcher\n",
              "  - prompt: PromptBuilder\n",
              "  - llm: GoogleAIGeminiGenerator\n",
              "🛤️ Connections\n",
              "  - fetcher.articles -> prompt.articles (List[Document])\n",
              "  - prompt.prompt -> llm.parts (str)"
            ]
          },
          "metadata": {},
          "execution_count": 29
        }
      ]
    },
    {
      "cell_type": "code",
      "source": [
        "summarizer_pipeline.show()"
      ],
      "metadata": {
        "colab": {
          "base_uri": "https://localhost:8080/",
          "height": 831
        },
        "id": "BBDSU0ypUBgv",
        "outputId": "76a927d0-faae-45c8-8702-9a8f0e3bfa38"
      },
      "execution_count": 30,
      "outputs": [
        {
          "output_type": "display_data",
          "data": {
            "image/png": "[encoded data removed]",
            "text/plain": [
              "<IPython.core.display.Image object>"
            ]
          },
          "metadata": {}
        }
      ]
    },
    {
      "cell_type": "code",
      "source": [
        "summaries = summarizer_pipeline.run({\"fetcher\": {\"top_k\": 3}})\n",
        "\n",
        "print(summaries[\"llm\"][\"replies\"][0])"
      ],
      "metadata": {
        "colab": {
          "base_uri": "https://localhost:8080/",
          "height": 280
        },
        "id": "ZnUll1zjUEui",
        "outputId": "45aefce0-0782-4218-b32e-da239b8fa9c4"
      },
      "execution_count": 31,
      "outputs": [
        {
          "output_type": "stream",
          "name": "stdout",
          "text": [
            "## HackerNews Post Summaries:\n",
            "\n",
            "**Post 1: Unreal Engine Reimplementation - SurrealEngine**\n",
            "\n",
            "This post introduces SurrealEngine, a project aiming to reimplement enough of the original Unreal Engine to make Unreal Tournament (UT99) maps playable. The project is still under development, but it can already load and render maps, and the Unrealscript VM is almost complete. While many features are missing, it's possible to play UT99 and Unreal Gold to some extent. The post provides instructions on how to build and run SurrealEngine, as well as its dependencies for both Windows and Linux.\n",
            "\n",
            "**Post 2: Chasing Chase: A Yuppie Nightmare with Banking**\n",
            "\n",
            "This post recounts the author's harrowing experience with Chase Bank, where $180,000 of their business account was frozen without warning or explanation. The author describes the frustrating and drawn-out process of trying to recover their funds, facing various excuses and demands from Chase. Ultimately, they recovered the money after months of persistence but lost trust in the bank. The author shares lessons learned, highlighting the importance of diversifying banking, considering alternatives, and having support for entrepreneurs. They also recommend Mercury Bank as a better option for small businesses.\n",
            "\n",
            "**Post 3: OpenSSH Backdoors - A Historical Perspective**\n",
            "\n",
            "This post explores the history of backdoor attempts on OpenSSH, highlighting two significant incidents: one in 2002 and another in 2024. Both involved attempts to introduce malicious code into the build process, but with differing motivations and approaches. The author discusses similarities, such as targeting OpenSSH and the build system, and differences, including intent (malicious vs. intelligence gathering), technical sophistication, and attacker methodology. The post concludes with a warning about the alarmingly high risk of supply chain attacks and the need for attack surface reduction, compartmentalization, and sandboxing to protect against such threats. \n",
            "\n"
          ]
        }
      ]
    },
    {
      "cell_type": "code",
      "source": [
        "prompt_template = \"\"\"\n",
        "You will be provided a few of the top posts in HackerNews, followed by their URL.\n",
        "For each post, provide a brief summary followed by the URL the full post can be found at.\n",
        "\n",
        "Posts:\n",
        "{% for article in articles %}\n",
        "  {{ article.content }}\n",
        "  URL: {{ article.meta[\"url\"] }}\n",
        "{% endfor %}\n",
        "\"\"\"\n",
        "\n",
        "prompt_builder = PromptBuilder(template=prompt_template)\n",
        "fetcher = HackernewsNewestFetcher()\n",
        "#llm = OpenAIGenerator()\n",
        "llm = GoogleAIGeminiGenerator(model=\"gemini-1.5-flash\")\n",
        "\n",
        "summarizer_pipeline = Pipeline()\n",
        "summarizer_pipeline.add_component(\"fetcher\", fetcher)\n",
        "summarizer_pipeline.add_component(\"prompt\", prompt_builder)\n",
        "summarizer_pipeline.add_component(\"llm\", llm)\n",
        "\n",
        "summarizer_pipeline.connect(\"fetcher.articles\", \"prompt.articles\")\n",
        "summarizer_pipeline.connect(\"prompt\", \"llm\")"
      ],
      "metadata": {
        "colab": {
          "base_uri": "https://localhost:8080/"
        },
        "id": "AMa2lNl2UJpA",
        "outputId": "6aaafb3d-1ba1-40b3-8bab-96ec25569f96"
      },
      "execution_count": 41,
      "outputs": [
        {
          "output_type": "execute_result",
          "data": {
            "text/plain": [
              "<haystack.core.pipeline.pipeline.Pipeline object at 0x7cc7b77261d0>\n",
              "🚅 Components\n",
              "  - fetcher: HackernewsNewestFetcher\n",
              "  - prompt: PromptBuilder\n",
              "  - llm: GoogleAIGeminiGenerator\n",
              "🛤️ Connections\n",
              "  - fetcher.articles -> prompt.articles (List[Document])\n",
              "  - prompt.prompt -> llm.parts (str)"
            ]
          },
          "metadata": {},
          "execution_count": 41
        }
      ]
    },
    {
      "cell_type": "code",
      "source": [
        "summaries = summarizer_pipeline.run({\"fetcher\": {\"top_k\": 2}})\n",
        "\n",
        "print(summaries[\"llm\"][\"replies\"][0])"
      ],
      "metadata": {
        "colab": {
          "base_uri": "https://localhost:8080/",
          "height": 280
        },
        "id": "ccf0XX7jUQP5",
        "outputId": "6b9913b5-f1ae-4133-de26-77ee81ee4b10"
      },
      "execution_count": 43,
      "outputs": [
        {
          "output_type": "stream",
          "name": "stdout",
          "text": [
            "## HackerNews Post Summaries:\n",
            "\n",
            "**1. SurrealEngine: A Reimplementation of the Unreal Engine 1**\n",
            "\n",
            "This project aims to reimplement the Unreal Engine 1, focusing on making Unreal Tournament (UT99) maps playable. It can load and render maps, and the Unrealscript VM is almost complete.  While many native functions are still missing, the engine can run UT99 and Unreal Gold in a somewhat playable state.\n",
            "\n",
            "**URL:** https://github.com/dpjudas/SurrealEngine\n",
            "\n",
            "**2. OpenSSH Backdoors: A Historical Perspective on Supply Chain Attacks**\n",
            "\n",
            "This blog post recounts two instances of backdoors in the OpenSSH project. The first, from 2002, involved a simple backdoor inserted into the source code hosted on ftp.openbsd.org. The second, the xz-utils backdoor, involved a more sophisticated social engineering campaign targeting the liblzma library, ultimately aiming to compromise OpenSSH. The article discusses the similarities and differences between these two attacks, highlighting the evolution of supply chain attacks and the need for stronger defenses against such threats.\n",
            "\n",
            "**URL:** https://blog.isosceles.com/openssh-backdoors/ \n",
            "\n"
          ]
        }
      ]
    }
  ]
}