{
  "nbformat": 4,
  "nbformat_minor": 0,
  "metadata": {
    "colab": {
      "provenance": [],
      "authorship_tag": "ABX9TyMdQy8CSIYVzW/BH89GTuV+",
      "include_colab_link": true
    },
    "kernelspec": {
      "name": "python3",
      "display_name": "Python 3"
    },
    "language_info": {
      "name": "python"
    }
  },
  "cells": [
    {
      "cell_type": "markdown",
      "metadata": {
        "id": "view-in-github",
        "colab_type": "text"
      },
      "source": [
        "<a href=\"https://colab.research.google.com/github/CodeScribbl/AIML/blob/main/notebook/Questioning_the_Answers_LLMs_enter_the_Boardroom.ipynb\" target=\"_parent\"><img src=\"https://colab.research.google.com/assets/colab-badge.svg\" alt=\"Open In Colab\"/></a>"
      ]
    },
    {
      "cell_type": "markdown",
      "source": [
        "Questioning the Answers: LLMs enter the Boardroom\n",
        "Using Gen AI Tools to Harness Alpha from Earnings Calls\n",
        "by S&P Global Market Intelligence's Quantitative Research & Solutions (QRS) Group"
      ],
      "metadata": {
        "id": "j7PXRB1v8anz"
      }
    },
    {
      "cell_type": "markdown",
      "source": [
        "1. Overview"
      ],
      "metadata": {
        "id": "9e8RMbne8j0M"
      }
    },
    {
      "cell_type": "markdown",
      "source": [
        "Earnings calls play a pivotal role in shaping investor perceptions. The quality of communication between executives and analysts can significantly influence company performance.\n",
        "**Efficient Communicators**—executives who deliver proactive presentations, anticipate market queries, and provide clear, on-topic answers to analysts’ questions—consistently outperform their peers.\n",
        "Conversely, **Total Redirectors**—executives who are reactive, fail to address analysts’ key inquiries during presentations, and provide off-topic responses—significantly underperform.\n",
        "\n",
        "Executives' ability to anticipate investor concerns and maintain a focused dialogue fosters confidence and strategic communication. In contrast, failing to provide clarity when analysts seek additional information can lead to misalignment and breakdowns in transparency. A long (short) portfolio of Efficient Communicators (Total Redirectors) generates +515bps of annualized alpha.\n",
        "\n",
        "This notebook serves as the blueprint for the research detailed in **Quantitative Research & Solutions**’ recent publication, \"Questioninig the Answers: LLM's enter the Boardroom.\" It analyse executive on-topicness and proactiveness using the analysts questions, executives answers and LLM answers. This research harness alpha using LLM tools, including vector embeddings, vector cosine similarity, and the LLM quesiton answering.\n",
        "\n",
        "\\**This starter notebook uses different embedding and completion LLM models compared to those used in the paper. As a result, the factor scores here differ from the ones presented in our research. While this notebook demonstrates the factor construction for a single company, the research systematically processed 180,000 transcripts.*"
      ],
      "metadata": {
        "id": "I5-vVcfL8qta"
      }
    },
    {
      "cell_type": "markdown",
      "source": [
        "#### 1.1: Request a 1:1 meeting"
      ],
      "metadata": {
        "id": "bYhj9ZmD8-vM"
      }
    },
    {
      "cell_type": "markdown",
      "source": [
        "###  We’re here to help you accelerate your journey from data to insight.\n",
        "\n",
        "S&P Global Marketplace Workbench is a web-based, cloud hosted environment that allows you to experiment with datasets from S&P Global and curated third-party providers. Leverage Workbench’s analytical capabilities to perform data analysis or build models within collaborative notebooks that support multiple coding languages, built-in data visualizations, and automatic versioning, enabling you to deliver impactful and unique solutions for your business.\n",
        "\n",
        "<a target=\"_blank\" rel=\"noopener noreferrer\" href=\"https://pages.marketintelligence.spglobal.com/Workbench-Notebooks-Demo-Request.html\">Click here - to view and experiment with the code and S&P Global datasets behind the research and request a 1:1 meeting.</a>\n"
      ],
      "metadata": {
        "id": "2_JRBIn49FMk"
      }
    },
    {
      "cell_type": "markdown",
      "source": [
        "#  2. Datasets"
      ],
      "metadata": {
        "id": "JqD27LHb9PBn"
      }
    },
    {
      "cell_type": "markdown",
      "source": [
        "|Name|Type|Description|\n",
        "|---|---|---|\n",
        "| <a target=\"_blank\" rel=\"noopener noreferrer\" href=\"https://www.marketplace.spglobal.com/en/datasets/index-data-(100)\">Index Data</a> |<a target=\"_blank\" rel=\"noopener noreferrer\" href=\"https://www.marketplace.spglobal.com/en/datasets\"> Datasets | The premium index benchmarking data from major index providers allows investors to track and simulate index performance, and are fully integrated and linked within the S&P Global Market Intelligence data ecosystem, so you can focus on your investment strategy. Premium index data available via Xpressfeed covers index returns (prices), as well as licensed index and their index constituent data all in one place.|\n",
        "| <a target=\"_blank\" rel=\"noopener noreferrer\" href=\"https://www.marketplace.spglobal.com/en/datasets/s-p-capital-iq-financials-(10)\">S&P Capital IQ Financials</a> |<a target=\"_blank\" rel=\"noopener noreferrer\" href=\"https://www.marketplace.spglobal.com/en/datasets\"> Datasets |S&P Capital IQ Financials provides global standardized financial statement data for over 180,000 companies, including over 95,000 active and inactive public companies, and As Reported data for over 150,000 companies. S&P Capital IQ Standardized Financials allows you to extend the scope of your historical analysis and back-testing models with consistent data from all filings of a company's historical financial periods including press releases, original filings, and all restatements.|\n",
        "| <a target=\"_blank\" rel=\"noopener noreferrer\" href=\"https://www.marketplace.spglobal.com/en/datasets/global-events-(11)\">Global Events</a> |<a target=\"_blank\" rel=\"noopener noreferrer\" href=\"https://www.marketplace.spglobal.com/en/datasets\"> Datasets |The Global Events dataset provides details on upcoming and past corporate events such as earnings calls, shareholder/analyst meetings, expected earnings release dates and more. With deep history back to 2003, clients can leverage this dataset to derive signals and support trading models across asset classes, trading styles and frequencies. This dataset also helps in research & analysis, risk management & compliance, and trade surveillance workflows.|\n",
        "| <a target=\"_blank\" rel=\"noopener noreferrer\" href=\"https://www.marketplace.spglobal.com/en/datasets/gics-(90)\">GICS®</a> |<a target=\"_blank\" rel=\"noopener noreferrer\" href=\"https://www.marketplace.spglobal.com/en/datasets\"> Datasets |The GICS dataset includes global industry classifications for public companies, both current and historical. Leverage GICS, jointly developed by S&P Global and MSCI, for a complete, consistent set of global sector and industry definitions. GICS has become the standard widely recognized by market participants worldwide. The GICS methodology assigns each public company to a sub-industry and corresponding industry, industry group and sector, according to the definition of its principle business activity. The current GICS sectors include Energy, Materials, Industrials, Consumer Discretionary, Consumer Staples, Health Care, Financials, Information Technology, Communication Services, Utilities, and Real Estate.|\n",
        "| <a target=\"_blank\" rel=\"noopener noreferrer\" href=\"https://www.marketplace.spglobal.com/en/datasets/compustat-financials-(8)\">Compustat</a> |<a target=\"_blank\" rel=\"noopener noreferrer\" href=\"https://www.marketplace.spglobal.com/en/datasets\"> Datasets |Compustat Financials provides standardized North American and global financial statements and market data for over 80,000 active and inactive publicly traded companies that financial professionals have relied on for over 50 years. Compustat allows investment professionals, academic researchers, and industry analysts to combine deep history with robust and consistent data standardization into their research and backtesting to produce valuable insights and generate alpha. With historical data for North America as far back as 1950 and point-in-time snapshots beginning in 1987, Compustat provides you with insight into company financial performance across many different economic cycles not available anywhere else.|\n",
        "\n",
        "\n"
      ],
      "metadata": {
        "id": "WrmdD14y9ZRA"
      }
    },
    {
      "cell_type": "markdown",
      "source": [
        "## Support Resources\n",
        "---\n",
        "\n",
        "- <a href = \"https://www.marketplace.spglobal.com/en/\" target = \"_blank\">Marketplace</a>\n",
        "  - Explore premium fundamental and alternative datasets available seamlessly via Cloud, Data Feed, API Solutions, and Capital IQ Pro, along with expert analysis you won't find anywhere else.\n",
        "<br>\n",
        "\n",
        "- [Query Library](https://www.marketplace.spglobal.com/en/support/query-library)\n",
        "  - Search a comprehensive library of pre-built queries designed to help you quickly maximize the value of our data offerings. For each query, the library provides a brief description along with the data packages necessary to execute the query.\n",
        "<br>\n",
        "\n",
        "- [Support Center](https://www.support.marketplace.spglobal.com/en/)\n",
        "  - We are here to help. Access resources to help you make the most of our premium fundamental and alternative datasets, along with robust solutions, available on the S&P Global Marketplace.\n",
        "<br>\n",
        "\n",
        "- If you're experiencing any technical issues with our Data Delivery Channels, Platforms, Solutions, and/or Workbench, please reach out to our support team at support.datafeed.mi@spglobal.com for assistance."
      ],
      "metadata": {
        "id": "LTxa6fym9nDX"
      }
    },
    {
      "cell_type": "markdown",
      "source": [
        "#3. Libraries & User Inputs\n",
        "Import Pyspark and any other libraries required for workflow"
      ],
      "metadata": {
        "id": "mNPKHKc89y2a"
      }
    },
    {
      "cell_type": "markdown",
      "source": [
        "3.1 Libraries"
      ],
      "metadata": {
        "id": "BiCggGFW930k"
      }
    },
    {
      "cell_type": "code",
      "source": [
        "%pip install nltk\n",
        "%pip install openai\n",
        "%pip install tiktoken"
      ],
      "metadata": {
        "id": "kI4QF2DE9sVf"
      },
      "execution_count": null,
      "outputs": []
    },
    {
      "cell_type": "markdown",
      "source": [
        "##3.2 Date Dimension"
      ],
      "metadata": {
        "id": "BzHqnCwh9_Jw"
      }
    },
    {
      "cell_type": "code",
      "source": [
        "beginDate = '2000-01-01' #start of period for analysis\n",
        "endDate = '2023-12-31' #end of period for analysis\n",
        "\n",
        "#get a list of dates from beginDate to endDate\n",
        "(\n",
        "  spark.sql('''\n",
        "      with calendarDates as(\n",
        "      select explode(sequence(to_date('2000-01-01'), to_date('2030-12-31'), interval 1 day)) as calendarDate)\n",
        "      select\n",
        "          calendarDate AS Date,\n",
        "          YEAR(calendarDate) AS Year,\n",
        "          MONTH(calendarDate) AS Month,\n",
        "          DAY(calendarDate) AS Day,\n",
        "          QUARTER(calendarDate) AS Quarter,\n",
        "          MIN(calendarDate) OVER (PARTITION BY YEAR(calendarDate), QUARTER(calendarDate)) AS FirstDayOfQuarter,\n",
        "          MAX(calendarDate) OVER (PARTITION BY YEAR(calendarDate), QUARTER(calendarDate)) AS LastDayOfQuarter\n",
        "      from calendarDates\n",
        "      order by calendarDate asc\n",
        "      ''')\n",
        "    .createOrReplaceTempView('date_dimension')\n",
        ")"
      ],
      "metadata": {
        "id": "B0Wvb02S9-2g"
      },
      "execution_count": null,
      "outputs": []
    },
    {
      "cell_type": "markdown",
      "source": [
        "##3.3 User Inputs"
      ],
      "metadata": {
        "id": "x7cgeXFc-St7"
      }
    },
    {
      "cell_type": "markdown",
      "source": [
        "Input your api key here to get access to your LLM model. Beaware of the cost associated with your LLM query. This research invloves the usage of an embedding model and a completion model, the default models were set to \"databricks-gte-large-en\" for embedding and \"databricks-meta-llama-3-1-70b-instruct\" for completion. This user input section gives you the flexibility to chose your own model for the task.\n",
        "\n",
        "For questions, please reach out to the WB Support Team: CIQWorkbenchSupport@spglobal.com"
      ],
      "metadata": {
        "id": "07t8hq2b-bMR"
      }
    },
    {
      "cell_type": "code",
      "source": [
        "my_api_key= ##'<Insert Personal LLM API Key>'\n",
        "base_url = \"https://spg-marketplace-workbench-42h04.cloud.databricks.com/serving-endpoints\"\n",
        "\n",
        "embedding_model = \"databricks-gte-large-en\"\n",
        "completion_model = \"databricks-meta-llama-3-1-70b-instruct\""
      ],
      "metadata": {
        "id": "geo7-Xd_-jMf"
      },
      "execution_count": null,
      "outputs": []
    },
    {
      "cell_type": "markdown",
      "source": [
        "# 4. Working with the Data: Russell 3000 Transcripts\n",
        "\n",
        "In this section we query all available Russell 3000 constituent transcripts."
      ],
      "metadata": {
        "id": "8ngnGaxW-owN"
      }
    },
    {
      "cell_type": "markdown",
      "source": [
        "##4.1 Index Data"
      ],
      "metadata": {
        "id": "s6bYqyUl-ubv"
      }
    },
    {
      "cell_type": "markdown",
      "source": [
        "###4.1.1 Russell 3000 Constituents"
      ],
      "metadata": {
        "id": "rhRO-W6T-vS8"
      }
    },
    {
      "cell_type": "markdown",
      "source": [
        "In the cells below we set the date range for the analysis. The Russell constituents list is collected and formatted to show the daily constituents, including their date, GICS sector and calendarYearQuarter."
      ],
      "metadata": {
        "id": "yeVDJFXG-2fQ"
      }
    },
    {
      "cell_type": "code",
      "source": [
        "df_indexcon = spark.sql(\"\"\"\n",
        "\n",
        "\n",
        "select distinct\n",
        "c.companyId, c.companyName\n",
        ", s.securityId\n",
        ", ic.tradingItemId, i.indexId, i.indexName, ic.constituentId\n",
        ", ti.tickerSymbol, e.exchangeSymbol as exchangeSymbol\n",
        ", concat(e.exchangeSymbol, ' : ', ti.tickerSymbol) as exchangeTicker\n",
        ", to_date(ic.fromDate) as fromDate, to_date(ifnull(ic.toDate,current_date())) as toDate\n",
        "\n",
        "from indexData.ciqIndex i\n",
        "    join indexData.ciqindexConstituent ic on ic.indexId=i.indexId\n",
        "    join basedata.ciqTradingItem ti on ti.tradingItemId=ic.tradingItemId\n",
        "    join basedata.ciqExchange e on e.exchangeId=ti.exchangeId\n",
        "    join basedata.ciqSecurity s on s.securityId=ti.securityId\n",
        "    join (select companyId, companyName from basedata.ciqCompany c) c on c.companyId=s.companyId\n",
        "where i.indexId in (\n",
        "--2668699 --S&P 500\n",
        "--2668861 --S&P 100\n",
        "2668795 --Russell 3000\n",
        ")\n",
        "\n",
        "\"\"\")\n",
        "\n",
        "df_indexcon.write.mode(\"overwrite\").option(\"compression\", \"snappy\").parquet(\"dbfs:/FileStore/ResearchReportBlueprints/LLMChatbotVsExecutive/Russell_Constituents.parquet\")\n",
        "\n",
        "display(df_indexcon.limit(5))"
      ],
      "metadata": {
        "id": "dRa7hAwW-65z"
      },
      "execution_count": null,
      "outputs": []
    },
    {
      "cell_type": "markdown",
      "source": [
        "![image.png](data:image/png;base64,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)"
      ],
      "metadata": {
        "id": "r42viiBU_Y2M"
      }
    },
    {
      "cell_type": "markdown",
      "source": [
        "###4.1.2 Enrich Russell 3000 Constituents with sector and calendar year quarter"
      ],
      "metadata": {
        "id": "buxemMM5_g7w"
      }
    },
    {
      "cell_type": "code",
      "source": [
        "spark.read.parquet('dbfs:/FileStore/ResearchReportBlueprints/LLMChatbotVsExecutive/Russell_Constituents.parquet').createOrReplaceTempView('R3000HISTORYTOPRESENT')\n",
        "\n",
        "df_indexcon = spark.sql(\"\"\"\n",
        "\n",
        "\n",
        "select\n",
        "    dd.firstDayOfQuarter, dd.lastDayOfQuarter,\n",
        "    concat(dd.year, '-', dd.quarter) as calendarYearQuarter,\n",
        "    concat(cp.fiscalYear, '-', cp.fiscalQuarter) as fiscalYearQuarter,\n",
        "    cpt.periodTypeName, cpt.periodTypeDescription,\n",
        "    r.companyId, r.companyName, r.tradingItemId, gs.gicDesc as Sector, gg.gicDesc as SectorGroup, gind.gicDesc as Industry, gsi.gicDesc as subIndustry\n",
        "from (select * from DATE_DIMENSION where date = firstDayOfQuarter) dd\n",
        "    join R3000HISTORYTOPRESENT r on dd.date between ifnull(r.fromDate, '1950-01-01') and ifnull(r.toDate, '2050-12-31')\n",
        "    join ciqfundamentals.ciqFinPeriod cp on r.companyId = cp.companyId and dd.year = cp.calendarYear and dd.quarter = cp.calendarQuarter\n",
        "    join events.ciqEventPeriodType cpt on cp.periodTypeId = cpt.periodTypeId\n",
        "\n",
        "    left join basedata.ciqGvkeyIID gi on gi.RELATEDCOMPANYID=r.companyId and gi.objectId=r.tradingItemId and dd.FirstDayOfQuarter between ifnull(gi.symbolStartDate,'1950-01-01') and ifnull(gi.symbolEndDate,'2050-01-01')\n",
        "    left join companyIndustry.gic_history gic on gic.GVKEY=gi.GVKEY and dd.FirstDayOfQuarter between ifnull(gic.indFrom,'1950-01-01') and ifnull(gic.indthru,'2050-01-01')\n",
        "    left join compustat.r_giccd gs on gs.giccd=gic.gsector\n",
        "    left join compustat.r_giccd gg on gg.giccd=gic.ggroup\n",
        "    left join compustat.r_giccd gind on gind.giccd=gic.gind\n",
        "    left join compustat.r_giccd gsi on gsi.giccd=gic.gsubind\n",
        "\n",
        "where 1=1\n",
        "    and date between '2000-01-01' and '2024-12-31'\n",
        "    and cp.periodTypeId = 2 --Fiscal/Calendar Quarter\n",
        "order by calendarYearQuarter asc, companyId asc\n",
        "\n",
        "\"\"\")\n",
        "\n",
        "df_indexcon.write.mode(\"overwrite\").option(\"compression\", \"snappy\").parquet(\"dbfs:/FileStore/ResearchReportBlueprints/LLMChatbotVsExecutive/Russell_Constituents_Sectors.parquet\")\n",
        "\n",
        "display(df_indexcon.limit(5))"
      ],
      "metadata": {
        "id": "krHkMz6F_rLa"
      },
      "execution_count": null,
      "outputs": []
    },
    {
      "cell_type": "markdown",
      "source": [
        "##4.2 Machine Readable Transcripts"
      ],
      "metadata": {
        "id": "6iOhILbnAWIt"
      }
    },
    {
      "cell_type": "markdown",
      "source": [
        "###4.2.1 Collect TranscriptId\n"
      ],
      "metadata": {
        "id": "VtDjauXcAedj"
      }
    },
    {
      "cell_type": "code",
      "source": [
        "spark.read.parquet('dbfs:/FileStore/ResearchReportBlueprints/LLMChatbotVsExecutive/Russell_Constituents_Sectors.parquet').createOrReplaceTempView('R3000HISTORYTOPRESENT_SECTORS')\n",
        "\n",
        "df_transcript = spark.sql(\"\"\"\n",
        "\n",
        "select * from\n",
        "(select\n",
        "    ice.*, t.transcriptId, row_number() over (partition by fiscalYearQuarter, tradingItemId, ice.keyDevId order by t.transcriptCreationDateUTC desc) as latestTranscriptforKeyDev_Flag\n",
        "\n",
        "from\n",
        "(select\n",
        "    ice.calendarYearQuarter, ice.fiscalYearQuarter, ice.tradingItemId, ice.companyId, ice.companyName, eot.keyDevId, e.headline, e.mostImportantDateUTC, enteredDate, bi.periodEndDate, languageId, keydeveventtypeid, row_number() over (partition by ice.tradingItemId, bi.fiscalYear, bi.fiscalQuarter order by e.lastModifiedDate desc) as latestKeyDev_Flag\n",
        "from R3000HISTORYTOPRESENT_SECTORS ice\n",
        "    join events.ciqEventToObjectToEventType eot on ice.companyId = eot.objectId and eot.keydeveventtypeid=48\n",
        "    join events.ciqEvent e on eot.keydevid = e.keydevid\n",
        "    join events.ciqEventCallBasicInfo bi on bi.keyDevId=e.KeyDevId and concat(bi.fiscalYear,'-',bi.fiscalQuarter) = ice.fiscalYearQuarter\n",
        "\n",
        "where bi.languageId in (0, 123) OR bi.languageId IS NULL --English\n",
        "--where ice.companyId = 13289149\n",
        ") ice\n",
        "    left join machinereadabletranscripts.ciqTranscript t on t.keyDevId=ice.keyDevId\n",
        "where 1=1\n",
        "    and t.transcriptId is not null\n",
        "    and latestKeyDev_Flag = 1)\n",
        "where latestTranscriptforKeyDev_Flag = 1\n",
        "order by calendarYearQuarter asc, tradingItemId asc\n",
        "\n",
        "\"\"\")\n",
        "\n",
        "df_transcript.write.mode(\"overwrite\").option(\"compression\", \"snappy\").parquet(\"dbfs:/FileStore/ResearchReportBlueprints/LLMChatbotVsExecutive/Russell_Constituents_Transcript.parquet\")\n",
        "\n",
        "display(df_transcript.limit(5))"
      ],
      "metadata": {
        "id": "uRAT_xVEAfue"
      },
      "execution_count": null,
      "outputs": []
    },
    {
      "cell_type": "markdown",
      "source": [
        "###**4.2.2 Collect TranscriptId Components"
      ],
      "metadata": {
        "id": "244Rs9QpAw9n"
      }
    },
    {
      "cell_type": "markdown",
      "source": [
        "This **query takes about 30 minutes** to executive since it is collecting all Russell 3000 transcript components in the history."
      ],
      "metadata": {
        "id": "P_wMNheoA2M9"
      }
    },
    {
      "cell_type": "code",
      "source": [
        "spark.read.parquet('dbfs:/FileStore/ResearchReportBlueprints/LLMChatbotVsExecutive/Russell_Constituents_Transcript.parquet').createOrReplaceTempView('R3000HISTORYTOPRESENT_Transcript')\n",
        "\n",
        "df_transcriptComponents = spark.sql(\"\"\"\n",
        "\n",
        "select distinct\n",
        "    u.*\n",
        "    , speakerTypeName\n",
        "    , tp.transcriptPersonName\n",
        "    , tp.transcriptPersonId\n",
        "    , tp.proId\n",
        "    , ct.transcriptComponentTypeId\n",
        "    , transcriptComponentTypeName\n",
        "    , componentOrder\n",
        "    , transcriptComponentId\n",
        "    , componentText\n",
        "\n",
        "from\n",
        "(select distinct to_date(mostImportantDateUTC) as callDate, to_date(enteredDate) as enteredDate, fiscalYearQuarter, calendarYearQuarter, tradingItemId, companyId, companyName, headline, transcriptId from R3000HISTORYTOPRESENT_Transcript) u\n",
        "    join machinereadabletranscripts.ciqTranscriptComponent tc on tc.transcriptId=u.transcriptId\n",
        "    join machinereadabletranscripts.ciqTranscriptComponentType ct on ct.transcriptComponentTypeId=tc.transcriptComponentTypeId\n",
        "    join machinereadabletranscripts.ciqTranscriptPerson tp on tp.transcriptPersonId=tc.transcriptPersonId\n",
        "    join machinereadabletranscripts.ciqTranscriptSpeakerType st on st.speakerTypeId=tp.speakerTypeId\n",
        "order by companyId asc, callDate asc, transcriptId asc, componentOrder asc\n",
        "\n",
        "\"\"\")\n",
        "\n",
        "df_transcriptComponents.write.mode(\"overwrite\").option(\"compression\", \"snappy\").parquet(\"dbfs:/FileStore/ResearchReportBlueprints/LLMChatbotVsExecutive/Russell_Constituents_TranscriptComponents.parquet\")\n",
        "\n",
        "display(df_transcriptComponents.limit(5))"
      ],
      "metadata": {
        "id": "fe4kM-8xAxor"
      },
      "execution_count": null,
      "outputs": []
    },
    {
      "cell_type": "markdown",
      "source": [
        "###4.2.3 Coverage Check"
      ],
      "metadata": {
        "id": "NoUoei8oBMBf"
      }
    },
    {
      "cell_type": "code",
      "source": [
        "spark.read.parquet('dbfs:/FileStore/ResearchReportBlueprints/LLMChatbotVsExecutive/Russell_Constituents_TranscriptComponents.parquet')\n",
        ".createOrReplaceTempView('R3000HISTORYTOPRESENT_TranscriptComponents')"
      ],
      "metadata": {
        "id": "UzROIb2HBU3c"
      },
      "execution_count": null,
      "outputs": []
    },
    {
      "cell_type": "code",
      "source": [
        "%sql select calendarYearQuarter, count(distinct transcriptId)\n",
        "from R3000HISTORYTOPRESENT_TranscriptComponents\n",
        "group by calendarYearQuarter order by calendarYearQuarter"
      ],
      "metadata": {
        "id": "k0J_pHB7BYfx"
      },
      "execution_count": null,
      "outputs": []
    },
    {
      "cell_type": "markdown",
      "source": [
        "# 5. Working with the Data: Sentence Tokenization\n",
        "\n",
        "In this section we tokenize the prepared remark and the answer components on the sentence level."
      ],
      "metadata": {
        "id": "3NxQhGMYBkoW"
      }
    },
    {
      "cell_type": "markdown",
      "source": [
        "###5.1 Define Sentence Tokenization Function\n"
      ],
      "metadata": {
        "id": "shcmRI-bBtEa"
      }
    },
    {
      "cell_type": "code",
      "source": [
        "from pyspark.sql.functions import col\n",
        "from pyspark.sql.functions import udf\n",
        "from pyspark.sql.functions import posexplode\n",
        "from pyspark.sql.types import ArrayType, StringType\n",
        "\n",
        "def sentenceTokenize(x):\n",
        "    import nltk\n",
        "    from nltk.tokenize import sent_tokenize\n",
        "    nltk.download('punkt_tab')\n",
        "    nltk.download('punkt')\n",
        "    return sent_tokenize(x)\n",
        "\n",
        "sentence_tokenize_udf = udf(sentenceTokenize, ArrayType(StringType()))"
      ],
      "metadata": {
        "id": "-v-72MdHByEa"
      },
      "execution_count": null,
      "outputs": []
    },
    {
      "cell_type": "markdown",
      "source": [
        "###**5.2 Apply Tokenize Sentence Function"
      ],
      "metadata": {
        "id": "YMMnh2w-BvHY"
      }
    },
    {
      "cell_type": "markdown",
      "source": [
        "The **code below takes about 20 minutes** to run, since it is sentence tokenizing all historical prepared remarks."
      ],
      "metadata": {
        "id": "F5VhQbj5CHd7"
      }
    },
    {
      "cell_type": "code",
      "source": [
        "df = spark.read.parquet('dbfs:/FileStore/ResearchReportBlueprints/LLMChatbotVsExecutive/Russell_Constituents_TranscriptComponents.parquet')\n",
        "filtered_df = df.filter((col('transcriptComponentTypeId') == 2) | (col('transcriptComponentTypeId') == 4))\n",
        "\n",
        "# Apply the UDF to the DataFrame column\n",
        "df_with_sentences = filtered_df.withColumn(\"sentencesList\", sentence_tokenize_udf(filtered_df[\"componentText\"]))\n",
        "\n",
        "# Explode the sentencesList column and generate the order column\n",
        "df_exploded = df_with_sentences.select(\n",
        "    *[col for col in df_with_sentences.columns if col != \"sentencesList\"],  # Include all original columns except `sentencesList`\n",
        "    posexplode(df_with_sentences[\"sentencesList\"]).alias(\"sentenceIndex\", \"sentence\")  # Add exploded columns\n",
        ")\n",
        "\n",
        "df_exploded.write.mode(\"overwrite\").option(\"compression\", \"snappy\").parquet(\"dbfs:/FileStore/ResearchReportBlueprints/LLMChatbotVsExecutive/Russell_Constituents_TranscriptComponents_PPP_A_Sentences.parquet\")\n",
        "\n",
        "display(spark.read.parquet(\"dbfs:/FileStore/ResearchReportBlueprints/LLMChatbotVsExecutive/Russell_Constituents_TranscriptComponents_PPP_A_Sentences.parquet\").limit(5))"
      ],
      "metadata": {
        "id": "Qf_o2YE4CHJi"
      },
      "execution_count": null,
      "outputs": []
    },
    {
      "cell_type": "markdown",
      "source": [
        "# 6. Working with the Data: Retrival Augmented Generation (RAG)"
      ],
      "metadata": {
        "id": "865b80iyC8dP"
      }
    },
    {
      "cell_type": "markdown",
      "source": [
        "Retrieval-Augmented Generation (RAG) is a tool that improves LLM consistency by retrieving relevant information before answering a question.\n",
        "\n",
        "For this task the LLM needs to be as consistent as possible in its responses to the analysts’ questions as inconsistency will lead to variations in cosine similarity scores and disrupt feature generation downstream.\n",
        "\n",
        "To combat this, we designed a Retrieval-Augmented Generation (RAG)  engine that chunks the prepared remarks sentence-by-sentence and retrieves the optimal retrieval percentage of sentences most similar to the question. Inconsistency occurs when the LLM is provided with too little (or too much) context, it becomes uninformed (unspecific). The optimal retrieval percentage for consistency is 60%.\n",
        "\n",
        "In the cells below, we vector embed all questions, prepared remark sentences and answer sentences using the native databricks-gte-large-en embedding model. Then use the cosine similarity from the (question vs prepared remark sentences) and (question vs answer sentences) to select top 60% most relevant prepared remark and answer sentences to the question from S&P Global Q3 2024 Earnings Call Transcript"
      ],
      "metadata": {
        "id": "3nqPN-j4DDqO"
      }
    },
    {
      "cell_type": "markdown",
      "source": [
        "## 6.1 S&P Global Q3 2024 Earnings Call Transcript"
      ],
      "metadata": {
        "id": "Vyn5WoJvDMET"
      }
    },
    {
      "cell_type": "markdown",
      "source": [
        "Select and seperate the prepared remarks, questions and answers sections of the S&P Global Q3 2024 Earnings Call"
      ],
      "metadata": {
        "id": "DyufIVdbDSNp"
      }
    },
    {
      "cell_type": "code",
      "source": [
        "from pyspark.sql.functions import col\n",
        "\n",
        "sentences_df = spark.read.parquet(\"dbfs:/FileStore/ResearchReportBlueprints/LLMChatbotVsExecutive/Russell_Constituents_TranscriptComponents_PPP_A_Sentences.parquet\").filter((col('tradingItemId') == 2629108) & (col('transcriptId') == 3291259))\n",
        "all_component_df = spark.read.parquet('dbfs:/FileStore/ResearchReportBlueprints/LLMChatbotVsExecutive/Russell_Constituents_TranscriptComponents.parquet').filter((col('tradingItemId') == 2629108) & (col('transcriptId') == 3291259))\n",
        "\n",
        "pppSentences = sentences_df.filter(col('transcriptComponentTypeId') == 2)\n",
        "questions = all_component_df.filter(col('transcriptComponentTypeId') == 3)\n",
        "answerSentences = sentences_df.filter(col('transcriptComponentTypeId') == 4)\n",
        "\n",
        "display(pppSentences.limit(5))\n",
        "display(questions.limit(5))\n",
        "display(answerSentences.limit(5))"
      ],
      "metadata": {
        "id": "7PlG4H1NCAwf"
      },
      "execution_count": null,
      "outputs": []
    },
    {
      "cell_type": "markdown",
      "source": [
        "## 6.2 Vector Embedding"
      ],
      "metadata": {
        "id": "UBZ8ukYBDjwP"
      }
    },
    {
      "cell_type": "markdown",
      "source": [
        "###**6.2.1 Embedding User Defined Function (UDF) for Vector Embedding"
      ],
      "metadata": {
        "id": "ElnS0VnvDmO9"
      }
    },
    {
      "cell_type": "markdown",
      "source": [
        "A Databricks SQL UDF (User-Defined Function) is like creating your own custom formula in a spreadsheet, but for data stored in Databricks. It provides the ability to perform complex transformations or calculations that are not natively supported by PySpark's built-in functions.\n",
        "\n",
        "The cell below defines a UDF which generate vector embeddings from text. A vector embedding represents complex textual information as a list of numbers, enabling computers to process and analyze patterns and similarities effectively.\n",
        "\n",
        "** **Be aware of the cost implications before running this function. Refer to the latest pricing of the embedding models.**"
      ],
      "metadata": {
        "id": "TgjC3IZ0DplY"
      }
    },
    {
      "cell_type": "code",
      "source": [
        "from pyspark.sql.functions import udf\n",
        "from pyspark.sql.types import ArrayType, StringType, FloatType\n",
        "\n",
        "def get_embedding(x):\n",
        "\n",
        "    from openai import OpenAI\n",
        "    import os\n",
        "\n",
        "    client = OpenAI(\n",
        "      api_key=my_api_key,\n",
        "      base_url=base_url\n",
        "    )\n",
        "\n",
        "    embeddings = client.embeddings.create(\n",
        "      input=x,\n",
        "      model=embedding_model\n",
        "    )\n",
        "\n",
        "    return embeddings.data[0].embedding\n",
        "\n",
        "# Register the function as a UDF\n",
        "embedding_udf = udf(get_embedding, ArrayType(FloatType()))\n",
        "\n",
        "# Register the UDF for SQL usage\n",
        "spark.udf.register(\"get_embedding\", embedding_udf)"
      ],
      "metadata": {
        "id": "0W5gI8LlD1ni"
      },
      "execution_count": null,
      "outputs": []
    },
    {
      "cell_type": "markdown",
      "source": [
        "Secure and extend your OpenAI usage with External Models: Databricks External Models provides streamlined usage and credential management of third-party models. You can easily try out different models and providers using a simple, unified LLM interface.\n",
        "Don't show me this again"
      ],
      "metadata": {
        "id": "mGUBqMbSEAt_"
      }
    },
    {
      "cell_type": "markdown",
      "source": [
        "###6.2.2 Apply Embedding UDF to Transcript Components"
      ],
      "metadata": {
        "id": "UP55ZE2zEKd8"
      }
    },
    {
      "cell_type": "code",
      "source": [
        "pppSentences_with_embeddings = pppSentences.withColumn(\"sentenceVec\", embedding_udf(pppSentences[\"sentence\"]))\n",
        "questions_with_embeddings = questions.withColumn(\"componentTextVec\", embedding_udf(questions[\"componentText\"]))\n",
        "answerSentences_with_embeddings = answerSentences.withColumn(\"sentenceVec\", embedding_udf(answerSentences[\"sentence\"]))\n",
        "\n",
        "pppSentences_with_embeddings.write.mode(\"overwrite\").option(\"compression\", \"snappy\").parquet(\"dbfs:/FileStore/ResearchReportBlueprints/LLMChatbotVsExecutive/Russell_Constituents_TranscriptComponents_pppSentencesVec.parquet\")\n",
        "questions_with_embeddings.write.mode(\"overwrite\").option(\"compression\", \"snappy\").parquet(\"dbfs:/FileStore/ResearchReportBlueprints/LLMChatbotVsExecutive/Russell_Constituents_TranscriptComponents_questionsVec.parquet\")\n",
        "answerSentences_with_embeddings.write.mode(\"overwrite\").option(\"compression\", \"snappy\").parquet(\"dbfs:/FileStore/ResearchReportBlueprints/LLMChatbotVsExecutive/Russell_Constituents_TranscriptComponents_answerSentencesVec.parquet\")"
      ],
      "metadata": {
        "id": "1PY4xKJzERdH"
      },
      "execution_count": null,
      "outputs": []
    },
    {
      "cell_type": "markdown",
      "source": [
        "## 6.3 Cosine Similarity"
      ],
      "metadata": {
        "id": "NyrfxqCGELlO"
      }
    },
    {
      "cell_type": "markdown",
      "source": [
        "To determine semantic closeness, we vector-embed the question-and-answer texts and calculate a cosine similarity score between the two vectors.\n",
        "For example, A and B each represent a vector such that:\n",
        "\n",
        "\n",
        "$$\tA = [a_1,a_2,… a_n] $$\n",
        "$$\tB = [b_1,b_2,… b_n] $$\n",
        "\n",
        "\n",
        "The cosine similarity formula between vectors A and B is:\n",
        "\n",
        "$$\\text{Cosine Similarity} = \\frac{\\mathbf{A} \\cdot \\mathbf{B}}{\\|\\mathbf{A}\\| \\cdot \\|\\mathbf{B}\\|}$$\n",
        "\n",
        ", where A⋅B is the dot product of the vectors, and |A|⋅|B| is the product of each vector's magnitude.\n",
        "The result ranges from -1 to 1, where:\n",
        "\n",
        "\t-1: Vectors are opposite.\n",
        "\t0: Vectors are unrelated.\n",
        "\t1: Vectors are identical."
      ],
      "metadata": {
        "id": "p9uW3RnyEfPA"
      }
    },
    {
      "cell_type": "markdown",
      "source": [
        "###6.3.1 Cosine Similarity UDF"
      ],
      "metadata": {
        "id": "aZsOClq3El0K"
      }
    },
    {
      "cell_type": "markdown",
      "source": [
        "The cell below defines a UDF which calculates the cosine similarity score between two vectors."
      ],
      "metadata": {
        "id": "lqTTM2mFEsWM"
      }
    },
    {
      "cell_type": "code",
      "source": [
        "from pyspark.sql.functions import udf\n",
        "from pyspark.sql.types import FloatType\n",
        "import numpy as np\n",
        "\n",
        "# Define a UDF to calculate cosine similarity\n",
        "def cosine_similarity(vec1, vec2):\n",
        "    dot_product = np.dot(vec1, vec2)\n",
        "    norm_a = np.linalg.norm(vec1)\n",
        "    norm_b = np.linalg.norm(vec2)\n",
        "    return float(dot_product / (norm_a * norm_b))\n",
        "\n",
        "cosine_similarity_udf = udf(cosine_similarity, FloatType())\n",
        "\n",
        "# Register the UDF with Spark SQL\n",
        "spark.udf.register(\"cosine_similarity_udf\", cosine_similarity_udf)"
      ],
      "metadata": {
        "id": "Vf1zgRwAEtYt"
      },
      "execution_count": null,
      "outputs": []
    },
    {
      "cell_type": "markdown",
      "source": [
        "###6.3.2 Apply Cosine Similarity UDF to Question & Answer Vector Embeddings"
      ],
      "metadata": {
        "id": "OkHFH3BVE2Om"
      }
    },
    {
      "cell_type": "markdown",
      "source": [
        "The cell below creates question and answer pair by collecting all the answer sentences whose componentOrder is between the currentQuestionComponentOrder and the nextQuestionComponentOrder. Then the the consine similarity UDF was applied to the question and answer sentence vector embeddings."
      ],
      "metadata": {
        "id": "qoWRfbxyE3EW"
      }
    },
    {
      "cell_type": "code",
      "source": [
        "spark.read.parquet(\"dbfs:/FileStore/ResearchReportBlueprints/LLMChatbotVsExecutive/Russell_Constituents_TranscriptComponents_questionsVec.parquet\").createOrReplaceTempView('questionsVec')\n",
        "spark.read.parquet(\"dbfs:/FileStore/ResearchReportBlueprints/LLMChatbotVsExecutive/Russell_Constituents_TranscriptComponents_answerSentencesVec.parquet\").createOrReplaceTempView('answerSentencesVec')\n",
        "\n",
        "\n",
        "\n",
        "df = spark.sql(\"\"\"\n",
        "\n",
        "with q as(\n",
        "    select\n",
        "        callDate, enteredDate, fiscalYearQuarter, calendarYearQuarter,\n",
        "        tradingItemId, companyId, companyName, headline, transcriptId,\n",
        "        speakerTypeName as questionSpeakerTypeName, transcriptPersonName as questionTranscriptPersonName,\n",
        "        transcriptPersonId as questionTranscriptPersonId, proId as questionProId, transcriptComponentTypeId as questionTranscriptComponentTypeId,\n",
        "        transcriptComponentId as questionTranscriptComponentId, componentOrder as currentQuestionOrder, lead(componentOrder) over (partition by tradingItemId, transcriptId order by componentOrder) as nextQuestionOrder, componentText as question, componentTextVec as questionVec\n",
        "    from questionsVec\n",
        "    where 1=1\n",
        "        and transcriptComponentTypeId = 3\n",
        ")\n",
        "select\n",
        "    q.callDate, q.enteredDate, q.fiscalYearQuarter, q.calendarYearQuarter,\n",
        "    q.tradingItemId, q.companyId, q.companyName, q.headline, q.transcriptId,\n",
        "    q.questionSpeakerTypeName, q.questionTranscriptPersonName, q.questionTranscriptPersonId, q.questionProId,\n",
        "    a.speakerTypeName as answerSpeakerTypeName, a.transcriptPersonName as answerTranscriptPersonName, a.transcriptPersonId as answerTranscriptPersonId, a.proId as answerProId,\n",
        "    q.questionTranscriptComponentTypeId, a.transcriptComponentTypeId as answerTranscriptComponentTypeId,\n",
        "    q.questionTranscriptComponentId, a.transcriptComponentId as answerTranscriptComponentId,\n",
        "    q.currentQuestionOrder, q.nextQuestionOrder, a.componentOrder as answerOrder, a.sentenceIndex as answerSentenceOrder,\n",
        "    q.question, a.componentText as answer, a.sentence as answerSentence, q.questionVec, a.sentenceVec as answerSentenceVec, cosine_similarity_udf(questionVec, sentenceVec) AS cosine_similarity\n",
        "from q\n",
        "    join answerSentencesVec a on q.tradingItemId = a.tradingItemId and q.transcriptId = a.transcriptId and a.componentOrder between q.currentQuestionOrder and ifnull(q.nextQuestionOrder, 10000)\n",
        "order by q.nextQuestionOrder asc, a.componentOrder asc, a.sentenceIndex asc\n",
        "\n",
        "\"\"\")\n",
        "\n",
        "display(df.limit(5))\n",
        "df.write.mode(\"overwrite\").option(\"compression\", \"snappy\").parquet(\"dbfs:/FileStore/ResearchReportBlueprints/LLMChatbotVsExecutive/Russell_Constituents_TranscriptComponents_qaPairCos.parquet\")"
      ],
      "metadata": {
        "id": "xLBrGEEuE8Ij"
      },
      "execution_count": null,
      "outputs": []
    },
    {
      "cell_type": "markdown",
      "source": [
        "###6.3.3 Apply Cosine Similarity UDF to Question & Prepared Remarks Vector Embeddings"
      ],
      "metadata": {
        "id": "O83Q4VlKFLRh"
      }
    },
    {
      "cell_type": "markdown",
      "source": [
        "The cell below pairs all prepared remarks sentences to questions. Then the the consine similarity UDF was applied to the question and prepared remarks sentence vector embeddings."
      ],
      "metadata": {
        "id": "gcHn3YH3FQ6e"
      }
    },
    {
      "cell_type": "code",
      "source": [
        "spark.read.parquet(\"dbfs:/FileStore/ResearchReportBlueprints/LLMChatbotVsExecutive/Russell_Constituents_TranscriptComponents_pppSentencesVec.parquet\").createOrReplaceTempView('pppSentencesVec')\n",
        "spark.read.parquet(\"dbfs:/FileStore/ResearchReportBlueprints/LLMChatbotVsExecutive/Russell_Constituents_TranscriptComponents_questionsVec.parquet\").createOrReplaceTempView('questionsVec')\n",
        "\n",
        "df = spark.sql(\"\"\"\n",
        "\n",
        "with q as(\n",
        "    select\n",
        "        callDate, enteredDate, fiscalYearQuarter, calendarYearQuarter,\n",
        "        tradingItemId, companyId, companyName, headline, transcriptId,\n",
        "        speakerTypeName as questionSpeakerTypeName, transcriptPersonName as questionTranscriptPersonName,\n",
        "        transcriptPersonId as questionTranscriptPersonId, proId as questionProId, transcriptComponentTypeId as questionTranscriptComponentTypeId,\n",
        "        transcriptComponentId as questionTranscriptComponentId, componentOrder as currentQuestionOrder, lead(componentOrder) over (partition by tradingItemId, transcriptId order by componentOrder) as nextQuestionOrder, componentText as question, componentTextVec as questionVec\n",
        "    from questionsVec\n",
        "    where 1=1\n",
        "        and transcriptComponentTypeId = 3\n",
        ")\n",
        "select\n",
        "    q.*,\n",
        "    p.componentOrder as executiveRemarkComponentOrder, p.sentenceIndex as executiveRemarkSentenceOrder,\n",
        "    p.componentText as executiveRemark, p.sentence as executiveSentence, p.sentenceVec as executiveVec,\n",
        "    cosine_similarity_udf(questionVec, p.sentenceVec) as similarity\n",
        "from q\n",
        "    join pppSentencesVec p on q.tradingItemId = p.tradingItemId and q.transcriptId = p.transcriptId\n",
        "\n",
        "order by q.nextQuestionOrder asc, p.componentOrder asc, p.sentenceIndex asc\n",
        "\n",
        "\"\"\")\n",
        "\n",
        "display(df.limit(5))\n",
        "df.write.mode(\"overwrite\").option(\"compression\", \"snappy\").parquet(\"dbfs:/FileStore/ResearchReportBlueprints/LLMChatbotVsExecutive/Russell_Constituents_TranscriptComponents_pppQPairCos.parquet\")"
      ],
      "metadata": {
        "id": "7LNbAh2jFVWY"
      },
      "execution_count": null,
      "outputs": []
    },
    {
      "cell_type": "markdown",
      "source": [
        "## 6.4 Top 60% Sentences"
      ],
      "metadata": {
        "id": "Wc1mXYOJFksI"
      }
    },
    {
      "cell_type": "markdown",
      "source": [
        "Utilizing the top 60% of prepared remarks identified as generating the most consistent LLM output. For further details on the experiment, please refer to the 'LLM Robustness Check' section in the whitepaper."
      ],
      "metadata": {
        "id": "khx3zzKYFltn"
      }
    },
    {
      "cell_type": "markdown",
      "source": [
        "###6.4.1 Token Count UDF"
      ],
      "metadata": {
        "id": "9LLXS-RgFsbG"
      }
    },
    {
      "cell_type": "markdown",
      "source": [
        "This function counts the number of tokens from a text"
      ],
      "metadata": {
        "id": "MSTvIdPlFtbD"
      }
    },
    {
      "cell_type": "code",
      "source": [
        "from pyspark.sql.functions import udf\n",
        "from pyspark.sql.types import IntegerType\n",
        "import tiktoken\n",
        "\n",
        "# Define the UDF to count tokens\n",
        "def count_tokens(text: str):\n",
        "    if text is None:\n",
        "        return 0\n",
        "    # Use the default encoder (adjust the model as needed, e.g., \"gpt-3.5-turbo\")\n",
        "    encoder = tiktoken.get_encoding(\"cl100k_base\")\n",
        "    tokens = encoder.encode(text)\n",
        "    return len(tokens)\n",
        "\n",
        "# Register the UDF\n",
        "count_tokens_udf = udf(count_tokens, IntegerType())\n",
        "\n",
        "# Register the UDF for SQL usage\n",
        "spark.udf.register(\"count_tokens\", count_tokens_udf)"
      ],
      "metadata": {
        "id": "abhSD4YyF0LK"
      },
      "execution_count": null,
      "outputs": []
    },
    {
      "cell_type": "markdown",
      "source": [
        "###6.4.2 Concat Top 60% Answer Sentences"
      ],
      "metadata": {
        "id": "4qoxVmZoF5D0"
      }
    },
    {
      "cell_type": "markdown",
      "source": [
        "After selecting the top 60% most similar answer sentences, we concat the answer sentences on the question level."
      ],
      "metadata": {
        "id": "ka4aLKUGF_Da"
      }
    },
    {
      "cell_type": "code",
      "source": [
        "spark.read.parquet(\"dbfs:/FileStore/ResearchReportBlueprints/LLMChatbotVsExecutive/Russell_Constituents_TranscriptComponents_qaPairCos.parquet\").createOrReplaceTempView('Russell_Constituents_TranscriptComponents_qaPairCos')\n",
        "\n",
        "df = spark.sql('''\n",
        "\n",
        "    with qaSimilarityRank as(\n",
        "    select\n",
        "        *,\n",
        "        ROW_NUMBER() OVER (PARTITION BY tradingItemId, transcriptId, currentQuestionOrder, currentQuestionOrder ORDER BY cosine_similarity desc) AS similarityRank,\n",
        "        COUNT(*) OVER (PARTITION BY tradingItemId, transcriptId, currentQuestionOrder, currentQuestionOrder) AS answerSentencesCount\n",
        "    from Russell_Constituents_TranscriptComponents_qaPairCos\n",
        "    ),\n",
        "    questionWithSixtyPercentAnswers as(\n",
        "\n",
        "    select\n",
        "        *,\n",
        "        case\n",
        "            when answerSentencesCount = 1 then 1\n",
        "            when similarityRank <= answerSentencesCount * 0.67 then 1\n",
        "            else 0\n",
        "        end as toKeepFlag\n",
        "    from qaSimilarityRank\n",
        "\n",
        "    ),\n",
        "    qaPair60 as(\n",
        "    select\n",
        "        callDate, enteredDate, fiscalYearQuarter, calendarYearQuarter, tradingItemId, companyId, companyName, headline, transcriptId, questionSpeakerTypeName, questionTranscriptPersonName, questionTranscriptPersonId, questionProId, answerSpeakerTypeName, answerTranscriptPersonName, answerTranscriptPersonId, answerProId, questionTranscriptComponentTypeId, answerTranscriptComponentTypeId, questionTranscriptComponentId, answerTranscriptComponentId, currentQuestionOrder, nextQuestionOrder, answerOrder, question, answer,\n",
        "        CONCAT_WS(' ', COLLECT_LIST(answerSentence)) AS sixtyPercentAnswer\n",
        "    from (select * from questionWithSixtyPercentAnswers where toKeepFlag = 1 order by currentQuestionOrder asc, answerOrder asc, answerSentenceOrder asc)\n",
        "    group by callDate, enteredDate, fiscalYearQuarter, calendarYearQuarter, tradingItemId, companyId, companyName, headline, transcriptId, questionSpeakerTypeName, questionTranscriptPersonName, questionTranscriptPersonId, questionProId, answerSpeakerTypeName, answerTranscriptPersonName, answerTranscriptPersonId, answerProId, questionTranscriptComponentTypeId, answerTranscriptComponentTypeId, questionTranscriptComponentId, answerTranscriptComponentId, currentQuestionOrder, nextQuestionOrder, answerOrder, question, answer)\n",
        "    select\n",
        "        callDate, enteredDate, fiscalYearQuarter, calendarYearQuarter, tradingItemId, companyId, companyName, headline, transcriptId, questionSpeakerTypeName, questionTranscriptPersonName, questionTranscriptPersonId, questionProId, answerSpeakerTypeName, answerTranscriptPersonName, answerTranscriptPersonId, answerProId, questionTranscriptComponentTypeId, answerTranscriptComponentTypeId, questionTranscriptComponentId, answerTranscriptComponentId, currentQuestionOrder, nextQuestionOrder, answerOrder,\n",
        "        question, answer, count_tokens(answer) as answerTokenCount, sixtyPercentAnswer, count_tokens(sixtyPercentAnswer) as sixtyPercentAnswerTokenCount\n",
        "    from qaPair60\n",
        "    order by currentQuestionOrder asc, answerOrder asc\n",
        "\n",
        "''')\n",
        "\n",
        "display(df.limit(5))\n",
        "df.write.mode(\"overwrite\").option(\"compression\", \"snappy\").parquet(\"dbfs:/FileStore/ResearchReportBlueprints/LLMChatbotVsExecutive/Russell_Constituents_TranscriptComponents_qaPairTop60.parquet\")"
      ],
      "metadata": {
        "id": "Tozjdv1FGDmS"
      },
      "execution_count": null,
      "outputs": []
    },
    {
      "cell_type": "markdown",
      "source": [
        "###6.4.3 Concat Top 60% Prepared Remarks Sentences"
      ],
      "metadata": {
        "id": "tOXYhBpOGnOb"
      }
    },
    {
      "cell_type": "markdown",
      "source": [
        "Similarly, after selecting the top 60% most similar prepared remarks sentences, we concat the prepared remarks sentences on the question level."
      ],
      "metadata": {
        "id": "XKmFVllIGn6Y"
      }
    },
    {
      "cell_type": "code",
      "source": [
        "spark.read.parquet(\"dbfs:/FileStore/ResearchReportBlueprints/LLMChatbotVsExecutive/Russell_Constituents_TranscriptComponents_pppQPairCos.parquet\").createOrReplaceTempView('Russell_Constituents_TranscriptComponents_pppQPairCos')\n",
        "\n",
        "df = spark.sql('''\n",
        "\n",
        "with qaSimilarityRank as(\n",
        "select\n",
        "    *,\n",
        "    ROW_NUMBER() OVER (PARTITION BY tradingItemId, transcriptId, currentQuestionOrder ORDER BY similarity desc) AS similarityRank,\n",
        "    COUNT(*) OVER (PARTITION BY tradingItemId, transcriptId, currentQuestionOrder) AS executiveRemarksSentencesCount\n",
        "from Russell_Constituents_TranscriptComponents_pppQPairCos\n",
        "),\n",
        "\n",
        "pppQPairTop60 as(\n",
        "select\n",
        "    *,\n",
        "    case\n",
        "        when executiveRemarksSentencesCount = 1 then 1\n",
        "        when similarityRank <= executiveRemarksSentencesCount * 0.67 then 1\n",
        "        else 0\n",
        "    end as toKeepFlag\n",
        "from qaSimilarityRank),\n",
        "\n",
        "presenterLevelSixtyPercentPPP as(\n",
        "select\n",
        "    callDate, enteredDate, fiscalYearQuarter, calendarYearQuarter, tradingItemId, companyId, companyName, headline, transcriptId, questionSpeakerTypeName, questionTranscriptPersonName, questionTranscriptPersonId, questionProId, questionTranscriptComponentTypeId, questionTranscriptComponentId, currentQuestionOrder, nextQuestionOrder, executiveRemarkComponentOrder, question, executiveRemark, CONCAT_WS(' ', COLLECT_LIST(executiveSentence)) AS sixtyPercentExecutiveRemark\n",
        "from (select * from pppQPairTop60 where toKeepFlag = 1 order by currentQuestionOrder asc, executiveRemarkComponentOrder asc, executiveRemarkSentenceOrder asc)\n",
        "group by callDate, enteredDate, fiscalYearQuarter, calendarYearQuarter, tradingItemId, companyId, companyName, headline, transcriptId, questionSpeakerTypeName, questionTranscriptPersonName, questionTranscriptPersonId, questionProId, questionTranscriptComponentTypeId, questionTranscriptComponentId, currentQuestionOrder, nextQuestionOrder, executiveRemarkComponentOrder, question, executiveRemark\n",
        "order by currentQuestionOrder asc,  executiveRemarkComponentOrder asc),\n",
        "\n",
        "pppQPairTop60Concat as(\n",
        "select\n",
        "\n",
        "    callDate, enteredDate, fiscalYearQuarter, calendarYearQuarter, tradingItemId, companyId, companyName, headline, transcriptId, questionSpeakerTypeName, questionTranscriptPersonName, questionTranscriptPersonId, questionProId, questionTranscriptComponentTypeId, questionTranscriptComponentId, currentQuestionOrder, nextQuestionOrder, question,\n",
        "    CONCAT_WS('\\n\\n', COLLECT_LIST(executiveRemark)) as questionLevelConcatenatedRawExecutiveRemark,\n",
        "    CONCAT_WS('\\n\\n', COLLECT_LIST(sixtyPercentExecutiveRemark)) as questionLevelConcatenatedSixtyPercentExecutiveRemark\n",
        "\n",
        "from (select * from presenterLevelSixtyPercentPPP order by currentQuestionOrder asc,  executiveRemarkComponentOrder asc)\n",
        "group by callDate, enteredDate, fiscalYearQuarter, calendarYearQuarter, tradingItemId, companyId, companyName, headline, transcriptId, questionSpeakerTypeName, questionTranscriptPersonName, questionTranscriptPersonId, questionProId, questionTranscriptComponentTypeId, questionTranscriptComponentId, currentQuestionOrder, nextQuestionOrder, question\n",
        ")\n",
        "\n",
        "select\n",
        "    callDate, enteredDate, fiscalYearQuarter, calendarYearQuarter, tradingItemId, companyId, companyName, headline, transcriptId, questionSpeakerTypeName, questionTranscriptPersonName, questionTranscriptPersonId, questionProId, questionTranscriptComponentTypeId, questionTranscriptComponentId, currentQuestionOrder, nextQuestionOrder, question,\n",
        "    questionLevelConcatenatedRawExecutiveRemark, count_tokens(questionLevelConcatenatedRawExecutiveRemark) as questionLevelConcatenatedRawExecutiveRemarkTokenCount, questionLevelConcatenatedSixtyPercentExecutiveRemark, count_tokens(questionLevelConcatenatedSixtyPercentExecutiveRemark) as questionLevelConcatenatedSixtyPercentExecutiveRemarkTokenCount\n",
        "from pppQPairTop60Concat\n",
        "order by currentQuestionOrder asc\n",
        "\n",
        "''')\n",
        "\n",
        "display(df.limit(5))\n",
        "df.write.mode(\"overwrite\").option(\"compression\", \"snappy\").parquet(\"dbfs:/FileStore/ResearchReportBlueprints/LLMChatbotVsExecutive/Russell_Constituents_TranscriptComponents_pppQPairTop60.parquet\")"
      ],
      "metadata": {
        "id": "odRu2WT_GrLX"
      },
      "execution_count": null,
      "outputs": []
    },
    {
      "cell_type": "markdown",
      "source": [
        "#7. Working with the Data: LLM Ready Data"
      ],
      "metadata": {
        "id": "EaZx8azmGu3N"
      }
    },
    {
      "cell_type": "markdown",
      "source": [
        "###7.1 Using OpenAI API"
      ],
      "metadata": {
        "id": "XX80DTEoG1Vv"
      }
    },
    {
      "cell_type": "markdown",
      "source": [
        "In the OpenAI API, messages are organized into distinct roles—system, user, and assistant—to structure and guide interactions. Each role serves a specific purpose:\n",
        "\n",
        "**System**: Provides instructions that define the context or behavior of the model. It's like setting the rules or tone for the conversation.\n",
        "Example: \"You are a helpful assistant that answers questions about technology in a concise manner.\"\n",
        "\n",
        "**User**: Represents the input or queries made by the person interacting with the model. These are the prompts or requests that the model responds to.\n",
        "Example: \"What is the purpose of the OpenAI API?\"\n",
        "\n",
        "**Assistant**: Reflects the model's response to the user's query, shaped by the system's instructions and the user's input.\n",
        "Example: \"The OpenAI API is designed to enable developers to integrate language models into their applications for tasks like answering questions, generating content, and more.\"\n",
        "\n",
        "In our research, executive prepared remarks are labelled as assistant messages, analyst's questions as User messages and executive answers as Assistant messages"
      ],
      "metadata": {
        "id": "6AnfJWH0HSnE"
      }
    },
    {
      "cell_type": "markdown",
      "source": [
        "####7.1.1 Construct OpenAI Assistant Message with QA Pair Snippet"
      ],
      "metadata": {
        "id": "KBfcT8wFHnIv"
      }
    },
    {
      "cell_type": "code",
      "source": [
        "spark.read.parquet(\"dbfs:/FileStore/ResearchReportBlueprints/LLMChatbotVsExecutive/Russell_Constituents_TranscriptComponents_qaPairTop60.parquet\").createOrReplaceTempView('qaPairTop60')\n",
        "\n",
        "df = spark.sql('''\n",
        "\n",
        "with questionWithSixtyPercentAnswersPromptSnippet as (\n",
        "\n",
        "select\n",
        "    *,\n",
        "    MAP('role', 'user', 'content', REPLACE(question, '\\r', '')) as questionPromptSnippet,\n",
        "    MAP('role', 'assistant', 'content', REPLACE(sixtyPercentAnswer, '\\r', '')) as answerPromptSnippet\n",
        "\n",
        "from qaPairTop60)\n",
        "\n",
        "select\n",
        "    *, array(questionPromptSnippet, answerPromptSnippet) as questionAnswerPairPromptSnippet\n",
        "from questionWithSixtyPercentAnswersPromptSnippet\n",
        "order by currentQuestionOrder asc, answerOrder asc\n",
        "\n",
        "''')\n",
        "\n",
        "display(df.limit(5))\n",
        "df.write.mode(\"overwrite\").option(\"compression\", \"snappy\").parquet(\"dbfs:/FileStore/ResearchReportBlueprints/LLMChatbotVsExecutive/Russell_Constituents_TranscriptComponents_pppQPairTop60AnswerConcat.parquet\")"
      ],
      "metadata": {
        "id": "SJ7ikgwQHeMF"
      },
      "execution_count": null,
      "outputs": []
    },
    {
      "cell_type": "markdown",
      "source": [
        "###7.2 Collect All Messages for OpenAI API"
      ],
      "metadata": {
        "id": "mwEclLxoH-5h"
      }
    },
    {
      "cell_type": "markdown",
      "source": [
        "All question pairs with prepare remarks and answers come together to form an LLM prompt following the iterative process such that:\n",
        "1. 'user': 'From the perspective of a top executive, please answer the following question raised by a financial analyst during an earnings conference call. Knowledge cutoff date: <callDate>'\n",
        "2. 'assistant': 60% prepared remarks\n",
        "3. 'user': question 1\n",
        "4. 'assistant': 60% answer 1\n",
        "5. ...\n",
        "6. ...\n",
        "7. 'user': question n"
      ],
      "metadata": {
        "id": "oHgVzjHKIAH7"
      }
    },
    {
      "cell_type": "markdown",
      "source": [
        "####7.2.1 Array Map Flatten UDF"
      ],
      "metadata": {
        "id": "bdPSm4I2IIlG"
      }
    },
    {
      "cell_type": "markdown",
      "source": [
        "This is a helper function that merge dictionaries and lists of dictionaries, it helps merging all user and assistant messages into a same list."
      ],
      "metadata": {
        "id": "mUQjq8diIOv9"
      }
    },
    {
      "cell_type": "code",
      "source": [
        "from pyspark.sql.functions import udf\n",
        "from pyspark.sql.types import ArrayType, MapType, StringType, BooleanType\n",
        "\n",
        "# Define the UDF\n",
        "def combine_and_flatten_maps(single_map, array_of_maps, prepend):\n",
        "    # Initialize the result list\n",
        "    combined_list = []\n",
        "\n",
        "    # Flatten the array of maps first\n",
        "    if array_of_maps is not None:\n",
        "        for map_item in array_of_maps:\n",
        "            if map_item is not None and isinstance(map_item, dict):\n",
        "                combined_list.append(map_item)\n",
        "\n",
        "    # Add the single map at the start or end based on `prepend`\n",
        "    if single_map is not None and isinstance(single_map, dict):\n",
        "        if prepend:\n",
        "            combined_list.insert(0, single_map)  # Add to the start\n",
        "        else:\n",
        "            combined_list.append(single_map)  # Add to the end\n",
        "\n",
        "    return combined_list  # Return the combined list of maps\n",
        "\n",
        "# Register the UDF with the appropriate return type\n",
        "combine_and_flatten_maps_udf = udf(\n",
        "    combine_and_flatten_maps,\n",
        "    ArrayType(MapType(StringType(), StringType()))\n",
        ")\n",
        "\n",
        "# Register for SQL usage\n",
        "spark.udf.register(\"combine_and_flatten_maps\", combine_and_flatten_maps_udf)"
      ],
      "metadata": {
        "id": "WkzKX-zBIJXU"
      },
      "execution_count": null,
      "outputs": []
    },
    {
      "cell_type": "markdown",
      "source": [
        "####7.2.2 LLM Ready Prompt Messages"
      ],
      "metadata": {
        "id": "hXliFqI5IbYB"
      }
    },
    {
      "cell_type": "markdown",
      "source": [
        "In the dataframe below, the prompt column has all the messages in 1 list. This is the prompt for the LLM."
      ],
      "metadata": {
        "id": "4kUKE1gqIcbq"
      }
    },
    {
      "cell_type": "code",
      "source": [
        "spark.read.parquet(\"dbfs:/FileStore/ResearchReportBlueprints/LLMChatbotVsExecutive/Russell_Constituents_TranscriptComponents_pppQPairTop60PPPConcat.parquet\").createOrReplaceTempView('pppQPairTop60PPPConcat')\n",
        "spark.read.parquet(\"dbfs:/FileStore/ResearchReportBlueprints/LLMChatbotVsExecutive/Russell_Constituents_TranscriptComponents_pppQPairTop60PredecessingQAConcat.parquet\").createOrReplaceTempView('pppQPairTop60PredecessingQAConcat')\n",
        "\n",
        "\n",
        "df = spark.sql('''\n",
        "\n",
        "    select\n",
        "        a.callDate, a.tradingItemId, a.transcriptId, a.headline,\n",
        "        a.questionTranscriptPersonName, a.questionTranscriptPersonId, a.questionProId,\n",
        "        a.answerTranscriptPersonName, a.answerTranscriptPersonId, a.answerProId,\n",
        "        a.questionTranscriptComponentId, a.answerTranscriptComponentId,\n",
        "        a.question, a.answer,\n",
        "        combine_and_flatten_maps(MAP('role', 'user', 'content', concat('From the perspective of a top executive, please answer the following question raised by a financial analyst during an earnings conference call. Knowledge cutoff date: ', cast(a.callDate as string))),\n",
        "          combine_and_flatten_maps(ppp.questionPromptSnippet, combine_and_flatten_maps(ppp.pppPromptSnippet, a.concatenatedPredecessors, True), False), True) as prompt\n",
        "    from pppQPairTop60PredecessingQAConcat as a\n",
        "        join pppQPairTop60PPPConcat as ppp on a.tradingItemId = ppp.tradingItemId and a.transcriptId = ppp.transcriptId and a.questionTranscriptComponentId = ppp.questionTranscriptComponentId\n",
        "    order by a.questionTranscriptComponentId asc, a.answerTranscriptComponentId asc\n",
        "\n",
        "''')\n",
        "\n",
        "display(df.limit(5))\n",
        "df.write.mode(\"overwrite\").option(\"compression\", \"snappy\").parquet(\"dbfs:/FileStore/ResearchReportBlueprints/LLMChatbotVsExecutive/Russell_Constituents_TranscriptComponents_targetLLMReadyPrompt.parquet\")\n"
      ],
      "metadata": {
        "id": "ufeTojYuIkt9"
      },
      "execution_count": null,
      "outputs": []
    },
    {
      "cell_type": "markdown",
      "source": [
        "###7.3 Collect LLM Response"
      ],
      "metadata": {
        "id": "fjNtZVF5I9et"
      }
    },
    {
      "cell_type": "markdown",
      "source": [
        "####**7.3.1 LLM Completion UDF"
      ],
      "metadata": {
        "id": "R5nl6zABI_Pc"
      }
    },
    {
      "cell_type": "markdown",
      "source": [
        "This function collects the LLM response and controls for the temperature parameter.\n",
        "\n",
        "** **Be aware of the cost implications before running this function. Refer to the latest pricing of the completion models.**"
      ],
      "metadata": {
        "id": "XATg2lffJDxk"
      }
    },
    {
      "cell_type": "code",
      "source": [
        "# Define the UDF function\n",
        "def get_chat_completion(messages, temperature):\n",
        "    from pyspark.sql.functions import udf\n",
        "    from pyspark.sql.types import StringType\n",
        "    from openai import OpenAI\n",
        "\n",
        "    # Initialize the OpenAI client\n",
        "    client = OpenAI(\n",
        "        api_key=my_api_key,  # Replace with your OpenAI API key\n",
        "        base_url=base_url\n",
        "    )\n",
        "    try:\n",
        "        # Call OpenAI chat completion API\n",
        "        chat_completion = client.chat.completions.create(\n",
        "            messages=messages,\n",
        "            model=completion_model,\n",
        "            temperature=temperature,\n",
        "            max_tokens=512\n",
        "        )\n",
        "        # Extract the choices\n",
        "        return chat_completion.choices[0].message.content\n",
        "    except Exception as e:\n",
        "        # Handle errors gracefully\n",
        "        return [f\"Error: {str(e)}\"]\n",
        "\n",
        "# Register the UDF with Spark\n",
        "get_chat_completion_udf = udf(get_chat_completion, StringType())\n",
        "\n",
        "# Register the UDF for SQL usage\n",
        "spark.udf.register(\"get_chat_completion\", get_chat_completion_udf)"
      ],
      "metadata": {
        "id": "RT1c6_kbJLaa"
      },
      "execution_count": null,
      "outputs": []
    },
    {
      "cell_type": "markdown",
      "source": [
        "####7.3.2 Apply LLM Completion UDF"
      ],
      "metadata": {
        "id": "LUqe5uT6JTX6"
      }
    },
    {
      "cell_type": "markdown",
      "source": [
        "We apply the LLM completion UDF on the prompt column and collect the LLM response."
      ],
      "metadata": {
        "id": "Kj8Q71c5JUGF"
      }
    },
    {
      "cell_type": "code",
      "source": [
        "spark.read.parquet(\"dbfs:/FileStore/ResearchReportBlueprints/LLMChatbotVsExecutive/Russell_Constituents_TranscriptComponents_targetLLMReadyPrompt.parquet\").createOrReplaceTempView('Russell_Constituents_TranscriptComponents_targetLLMReadyPrompt')\n",
        "\n",
        "df = spark.sql('''\n",
        "\n",
        "    select *, get_chat_completion(prompt, 0) as LLMAnswer from Russell_Constituents_TranscriptComponents_targetLLMReadyPrompt\n",
        "\n",
        "''')\n",
        "\n",
        "display(df.limit(5))\n",
        "df.write.mode(\"overwrite\").option(\"compression\", \"snappy\").parquet(\"dbfs:/FileStore/ResearchReportBlueprints/LLMChatbotVsExecutive/Russell_Constituents_TranscriptComponents_targetLLMAnswer.parquet\")"
      ],
      "metadata": {
        "id": "_qnntgMRJaXq"
      },
      "execution_count": null,
      "outputs": []
    },
    {
      "cell_type": "markdown",
      "source": [
        "#8. Working with the Data: Factor Construction"
      ],
      "metadata": {
        "id": "QBC3Y-2YJeRG"
      }
    },
    {
      "cell_type": "markdown",
      "source": [
        "##8.1 Executive On/Off Topic Factor"
      ],
      "metadata": {
        "id": "A_m1Z3rvJpiw"
      }
    },
    {
      "cell_type": "markdown",
      "source": [
        "When an executive answer is semantically similar (dissimilar) to the analyst’s question, it suggests that the answer uses language and concepts similar to (different from) the analyst question, indicating it is on-topic (off-topic). To determine semantic closeness, we vector-embed the question-and-answer texts and calculate a cosine similarity score between the two vectors."
      ],
      "metadata": {
        "id": "Ys9mqewiJt_V"
      }
    },
    {
      "cell_type": "markdown",
      "source": [
        "####8.1.1 Question vs Executive Answer Cosine Similarity"
      ],
      "metadata": {
        "id": "OF8OldKiJyGL"
      }
    },
    {
      "cell_type": "code",
      "source": [
        "spark.read.parquet(\"dbfs:/FileStore/ResearchReportBlueprints/LLMChatbotVsExecutive/Russell_Constituents_TranscriptComponents_targetLLMAnswer.parquet\").createOrReplaceTempView('Russell_Constituents_TranscriptComponents_targetLLMAnswer')\n",
        "\n",
        "df = spark.sql('''\n",
        "\n",
        "    with vec as(\n",
        "    select *, get_embedding(question) as questionVec, get_embedding(answer) as answerVec from Russell_Constituents_TranscriptComponents_targetLLMAnswer\n",
        "    )\n",
        "    select *, cosine_similarity_udf(questionVec, answerVec) as execOnOffTopicFactor from vec\n",
        "\n",
        "''')\n",
        "\n",
        "display(df.limit(5))\n",
        "df.write.mode(\"overwrite\").option(\"compression\", \"snappy\").parquet(\"dbfs:/FileStore/ResearchReportBlueprints/LLMChatbotVsExecutive/Russell_Constituents_TranscriptComponents_execOnOffTopicFactor.parquet\")"
      ],
      "metadata": {
        "id": "WWjbbSe3J7uk"
      },
      "execution_count": null,
      "outputs": []
    },
    {
      "cell_type": "markdown",
      "source": [
        "####8.1.2 Transcript Mean Executive On/Off Topic _Factor_"
      ],
      "metadata": {
        "id": "T8m_2WeUJ4XS"
      }
    },
    {
      "cell_type": "markdown",
      "source": [
        "Cosine similarity scores are averaged at the transcript level. A high (low) Cosine Similarity Score indicates an On (Off) Topic Executive."
      ],
      "metadata": {
        "id": "WsWUCPCaKMHo"
      }
    },
    {
      "cell_type": "code",
      "source": [
        "spark.read.parquet(\"dbfs:/FileStore/ResearchReportBlueprints/LLMChatbotVsExecutive/Russell_Constituents_TranscriptComponents_execOnOffTopicFactor.parquet\").createOrReplaceTempView('Russell_Constituents_TranscriptComponents_execOnOffTopicFactor')\n",
        "\n",
        "display(spark.sql('''\n",
        "    select avg(execOnOffTopicFactor) as transcriptLevelExecOnOffTopicFactor from Russell_Constituents_TranscriptComponents_execOnOffTopicFactor\n",
        "'''))"
      ],
      "metadata": {
        "id": "EU_D5rhVKRqc"
      },
      "execution_count": null,
      "outputs": []
    },
    {
      "cell_type": "markdown",
      "source": [
        "##8.2 Executive Proactive/Reactive Factor"
      ],
      "metadata": {
        "id": "0Q2b61DzKVEa"
      }
    },
    {
      "cell_type": "markdown",
      "source": [
        "####8.2.1 Question vs LLM Answer Cosine Similarity"
      ],
      "metadata": {
        "id": "zgwkBqLUKdNS"
      }
    },
    {
      "cell_type": "markdown",
      "source": [
        "Since the LLM answers only within the context of information provided in the prepared remarks, a high (low) cosine similarity score indicates that the LLM answers are semantically similar (dissimilar) the questions, reflecting the executives are proactive (reactive)."
      ],
      "metadata": {
        "id": "usKWZ_6UKtPx"
      }
    },
    {
      "cell_type": "code",
      "source": [
        "spark.read.parquet(\"dbfs:/FileStore/ResearchReportBlueprints/LLMChatbotVsExecutive/Russell_Constituents_TranscriptComponents_targetLLMAnswer.parquet\").createOrReplaceTempView('Russell_Constituents_TranscriptComponents_targetLLMAnswer')\n",
        "\n",
        "df = spark.sql('''\n",
        "\n",
        "    with vec as(\n",
        "    select *, get_embedding(question) as questionVec, get_embedding(LLMAnswer) as LLMAnswerVec from Russell_Constituents_TranscriptComponents_targetLLMAnswer\n",
        "    )\n",
        "    select *, cosine_similarity_udf(questionVec, LLMAnswerVec) as execProactiveReactiveFactor from vec\n",
        "\n",
        "''')\n",
        "\n",
        "display(df.limit(5))\n",
        "df.write.mode(\"overwrite\").option(\"compression\", \"snappy\").parquet(\"dbfs:/FileStore/ResearchReportBlueprints/LLMChatbotVsExecutive/Russell_Constituents_TranscriptComponents_execProactiveReactiveFactor.parquet\")"
      ],
      "metadata": {
        "id": "fo8KMAUBKjvV"
      },
      "execution_count": null,
      "outputs": []
    },
    {
      "cell_type": "markdown",
      "source": [
        "####8.2.2 Transcript Mean Executive Proactive/Reactive Factor"
      ],
      "metadata": {
        "id": "oo8KFxxPK8he"
      }
    },
    {
      "cell_type": "markdown",
      "source": [
        "Similar to the construction of the Executive On/Off Topic factor, both the LLM answers and questions are summarized, vector-embedded and cosine similarity scores are averaged at the transcript level."
      ],
      "metadata": {
        "id": "Nu-o5x6lLB1m"
      }
    },
    {
      "cell_type": "code",
      "source": [
        "spark.read.parquet(\"dbfs:/FileStore/ResearchReportBlueprints/LLMChatbotVsExecutive/Russell_Constituents_TranscriptComponents_execProactiveReactiveFactor.parquet\").createOrReplaceTempView('Russell_Constituents_TranscriptComponents_execProactiveReactiveFactor')\n",
        "\n",
        "display(spark.sql('''\n",
        "    select avg(execProactiveReactiveFactor) as transcriptLevelexecProactiveReactiveFactor from Russell_Constituents_TranscriptComponents_execProactiveReactiveFactor\n",
        "'''))"
      ],
      "metadata": {
        "id": "zNqDXs6VLFqf"
      },
      "execution_count": null,
      "outputs": []
    },
    {
      "cell_type": "markdown",
      "source": [
        "# 9. Results & Summary"
      ],
      "metadata": {
        "id": "cgqplCCjLNSn"
      }
    },
    {
      "cell_type": "markdown",
      "source": [
        "%md\n",
        "\n",
        "This research underscores the significant impact of executive communication styles during earnings calls on firm performance. Proactive executives who anticipate market concerns and provide concise, on-topic responses foster transparency, aligning with investor expectations and driving superior returns. The findings demonstrate that firms with Efficient Communicators achieve statistically significant outperformance, while Total Redirectors suffer from diminished confidence and underperformance. These insights validate the critical role of strategic communication in shaping investor perceptions and influencing market outcomes.\n",
        "\n",
        "Advanced analytical tools, such as vector embeddings and cosine similarity metrics, enable nuanced evaluations of executive-analyst interactions, revealing measurable performance effects across different communication styles. While large language models (LLMs) enhance feature extraction, challenges like forward-looking bias and inconsistency highlight the need for caution in time-sensitive tasks. Overall, the integration of proactive, clear, and relevant communication strategies remains paramount in fostering investor trust and maximizing financial success in a competitive marketplace.\n"
      ],
      "metadata": {
        "id": "YJXYFIMuLSEi"
      }
    },
    {
      "cell_type": "markdown",
      "source": [
        "[Link](https://spg-marketplace-workbench-research.cloud.databricks.com/editor/notebooks/785306277695184?o=7655476408017665#command/409278143986733)"
      ],
      "metadata": {
        "id": "UNNkyYQpLjrb"
      }
    }
  ]
}