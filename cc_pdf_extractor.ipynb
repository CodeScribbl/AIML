{
  "cells": [
    {
      "cell_type": "markdown",
      "metadata": {
        "id": "view-in-github",
        "colab_type": "text"
      },
      "source": [
        "<a href=\"https://colab.research.google.com/github/Somabss1/AIML/blob/main/cc_pdf_extractor.ipynb\" target=\"_parent\"><img src=\"https://colab.research.google.com/assets/colab-badge.svg\" alt=\"Open In Colab\"/></a>"
      ]
    },
    {
      "cell_type": "markdown",
      "metadata": {
        "id": "9elJcTkAfKLn"
      },
      "source": [
        "Imports"
      ]
    },
    {
      "cell_type": "code",
      "source": [
        "from google.colab import drive\n",
        "drive.mount('/content/drive')"
      ],
      "metadata": {
        "id": "gDDsnt1E0MUK"
      },
      "execution_count": null,
      "outputs": []
    },
    {
      "cell_type": "code",
      "execution_count": null,
      "metadata": {
        "id": "o_tzBNk4fKLo"
      },
      "outputs": [],
      "source": [
        "# Imports\n",
        "import pandas as pd # tabular data processing\n",
        "import PyPDF2 # pdf data extraction\n",
        "import re # regex"
      ]
    },
    {
      "cell_type": "markdown",
      "metadata": {
        "id": "OlUKLw4wfKLq"
      },
      "source": [
        "Functions"
      ]
    },
    {
      "cell_type": "code",
      "execution_count": null,
      "metadata": {
        "id": "xHfWAEaXfKLq"
      },
      "outputs": [],
      "source": [
        "# Function to extract text from PDF file\n",
        "def extract_text_from_pdf(pdf_path):\n",
        "    with open(pdf_path, \"rb\") as file:  # open pdf in read binary mode for pdf extraction\n",
        "        reader = PyPDF2.PdfReader(file)  # read pdf file\n",
        "        text = \"\".join(page.extract_text() for page in reader.pages)  # extract and join text from all pages\n",
        "    return text  # return extracted text for regex pattern matching"
      ]
    },
    {
      "cell_type": "code",
      "execution_count": null,
      "metadata": {
        "id": "d-f6qXBtfKLr"
      },
      "outputs": [],
      "source": [
        "# Function to parse extracted text and convert it into a DataFrame\n",
        "def parse_ccstatement_to_df(text):\n",
        "    # Define the pattern for extracting data rows\n",
        "    pattern = re.compile(r\"(\\d{4}-\\d{2}-\\d{2})\\s+(\\d{4}-\\d{2}-\\d{2})\\s+(.*?)\\s+([\\d,.]+(?: CR)?)\")\n",
        "    matches = pattern.findall(text)\n",
        "\n",
        "    # Create a DataFrame from the matched data\n",
        "    df = pd.DataFrame(matches, columns=[\"Post Date\", \"Trans Date\", \"Description of Transaction\", \"Transaction Amount SGD\"])\n",
        "\n",
        "    return df"
      ]
    },
    {
      "cell_type": "markdown",
      "metadata": {
        "id": "-2PrPdaqfKLs"
      },
      "source": [
        "Load data"
      ]
    },
    {
      "cell_type": "code",
      "execution_count": null,
      "metadata": {
        "id": "QIwtfOrVfKLs",
        "outputId": "98a4f3ee-0b70-4b7b-b4e4-c32b1fb716f9"
      },
      "outputs": [
        {
          "name": "stdout",
          "output_type": "stream",
          "text": [
            "(12, 4)\n"
          ]
        },
        {
          "data": {
            "text/html": [
              "<div>\n",
              "<style scoped>\n",
              "    .dataframe tbody tr th:only-of-type {\n",
              "        vertical-align: middle;\n",
              "    }\n",
              "\n",
              "    .dataframe tbody tr th {\n",
              "        vertical-align: top;\n",
              "    }\n",
              "\n",
              "    .dataframe thead th {\n",
              "        text-align: right;\n",
              "    }\n",
              "</style>\n",
              "<table border=\"1\" class=\"dataframe\">\n",
              "  <thead>\n",
              "    <tr style=\"text-align: right;\">\n",
              "      <th></th>\n",
              "      <th>Post Date</th>\n",
              "      <th>Trans Date</th>\n",
              "      <th>Description of Transaction</th>\n",
              "      <th>Transaction Amount SGD</th>\n",
              "    </tr>\n",
              "  </thead>\n",
              "  <tbody>\n",
              "    <tr>\n",
              "      <th>0</th>\n",
              "      <td>2024-08-02</td>\n",
              "      <td>2024-08-01</td>\n",
              "      <td>Grocery Store</td>\n",
              "      <td>50.00</td>\n",
              "    </tr>\n",
              "    <tr>\n",
              "      <th>1</th>\n",
              "      <td>2024-08-02</td>\n",
              "      <td>2024-08-02</td>\n",
              "      <td>Online Purchase</td>\n",
              "      <td>100.00</td>\n",
              "    </tr>\n",
              "    <tr>\n",
              "      <th>2</th>\n",
              "      <td>2024-08-04</td>\n",
              "      <td>2024-08-03</td>\n",
              "      <td>Restaurant</td>\n",
              "      <td>75.50</td>\n",
              "    </tr>\n",
              "    <tr>\n",
              "      <th>3</th>\n",
              "      <td>2024-08-05</td>\n",
              "      <td>2024-08-04</td>\n",
              "      <td>Credit Card Payment</td>\n",
              "      <td>200.00 CR</td>\n",
              "    </tr>\n",
              "    <tr>\n",
              "      <th>4</th>\n",
              "      <td>2024-08-06</td>\n",
              "      <td>2024-08-05</td>\n",
              "      <td>Taxi</td>\n",
              "      <td>20.00</td>\n",
              "    </tr>\n",
              "  </tbody>\n",
              "</table>\n",
              "</div>"
            ],
            "text/plain": [
              "    Post Date  Trans Date Description of Transaction Transaction Amount SGD\n",
              "0  2024-08-02  2024-08-01              Grocery Store                  50.00\n",
              "1  2024-08-02  2024-08-02            Online Purchase                 100.00\n",
              "2  2024-08-04  2024-08-03                 Restaurant                  75.50\n",
              "3  2024-08-05  2024-08-04        Credit Card Payment              200.00 CR\n",
              "4  2024-08-06  2024-08-05                       Taxi                  20.00"
            ]
          },
          "execution_count": 4,
          "metadata": {},
          "output_type": "execute_result"
        }
      ],
      "source": [
        "# Local file path to pdf cc statement\n",
        "pdf_path = \"../data/input/sample_credit_card_statement_updated.pdf\" # local path to the pdf file\n",
        "\n",
        "# Call functions to extract pdf text and parse into df\n",
        "text = extract_text_from_pdf(pdf_path)\n",
        "df = parse_ccstatement_to_df(text)\n",
        "\n",
        "print(df.shape)\n",
        "df.head()"
      ]
    },
    {
      "cell_type": "code",
      "execution_count": null,
      "metadata": {
        "id": "aXODlJ8DfKLu",
        "outputId": "c2cdbe1f-5e0a-4384-e1fe-7d08fdb357da"
      },
      "outputs": [
        {
          "name": "stdout",
          "output_type": "stream",
          "text": [
            "<class 'pandas.core.frame.DataFrame'>\n",
            "RangeIndex: 12 entries, 0 to 11\n",
            "Data columns (total 4 columns):\n",
            " #   Column                      Non-Null Count  Dtype \n",
            "---  ------                      --------------  ----- \n",
            " 0   Post Date                   12 non-null     object\n",
            " 1   Trans Date                  12 non-null     object\n",
            " 2   Description of Transaction  12 non-null     object\n",
            " 3   Transaction Amount SGD      12 non-null     object\n",
            "dtypes: object(4)\n",
            "memory usage: 516.0+ bytes\n"
          ]
        }
      ],
      "source": [
        "# Inspecting nulls and data type\n",
        "df.info()"
      ]
    },
    {
      "cell_type": "markdown",
      "metadata": {
        "id": "m1WES2O0fKLu"
      },
      "source": [
        "- Since the transaction amount is currently in string format, we need to convert it to a numerical format for analysis.\n",
        "- We will also convert the date to a datetime format.\n",
        "- We will also create new columns to identify a credit from debit transaction."
      ]
    },
    {
      "cell_type": "code",
      "execution_count": null,
      "metadata": {
        "id": "2HfDElJkfKLv",
        "outputId": "4fd1a2a9-c888-4ba2-ed88-7579b40dab0f"
      },
      "outputs": [
        {
          "name": "stdout",
          "output_type": "stream",
          "text": [
            "(12, 6)\n"
          ]
        },
        {
          "data": {
            "text/html": [
              "<div>\n",
              "<style scoped>\n",
              "    .dataframe tbody tr th:only-of-type {\n",
              "        vertical-align: middle;\n",
              "    }\n",
              "\n",
              "    .dataframe tbody tr th {\n",
              "        vertical-align: top;\n",
              "    }\n",
              "\n",
              "    .dataframe thead th {\n",
              "        text-align: right;\n",
              "    }\n",
              "</style>\n",
              "<table border=\"1\" class=\"dataframe\">\n",
              "  <thead>\n",
              "    <tr style=\"text-align: right;\">\n",
              "      <th></th>\n",
              "      <th>Post Date</th>\n",
              "      <th>Trans Date</th>\n",
              "      <th>Description of Transaction</th>\n",
              "      <th>Transaction Amount SGD</th>\n",
              "      <th>Credit</th>\n",
              "      <th>Debit</th>\n",
              "    </tr>\n",
              "  </thead>\n",
              "  <tbody>\n",
              "    <tr>\n",
              "      <th>0</th>\n",
              "      <td>2024-08-02</td>\n",
              "      <td>2024-08-01</td>\n",
              "      <td>Grocery Store</td>\n",
              "      <td>50.00</td>\n",
              "      <td>0.0</td>\n",
              "      <td>50.0</td>\n",
              "    </tr>\n",
              "    <tr>\n",
              "      <th>1</th>\n",
              "      <td>2024-08-02</td>\n",
              "      <td>2024-08-02</td>\n",
              "      <td>Online Purchase</td>\n",
              "      <td>100.00</td>\n",
              "      <td>0.0</td>\n",
              "      <td>100.0</td>\n",
              "    </tr>\n",
              "    <tr>\n",
              "      <th>2</th>\n",
              "      <td>2024-08-04</td>\n",
              "      <td>2024-08-03</td>\n",
              "      <td>Restaurant</td>\n",
              "      <td>75.50</td>\n",
              "      <td>0.0</td>\n",
              "      <td>75.5</td>\n",
              "    </tr>\n",
              "    <tr>\n",
              "      <th>3</th>\n",
              "      <td>2024-08-05</td>\n",
              "      <td>2024-08-04</td>\n",
              "      <td>Credit Card Payment</td>\n",
              "      <td>200.00 CR</td>\n",
              "      <td>200.0</td>\n",
              "      <td>0.0</td>\n",
              "    </tr>\n",
              "    <tr>\n",
              "      <th>4</th>\n",
              "      <td>2024-08-06</td>\n",
              "      <td>2024-08-05</td>\n",
              "      <td>Taxi</td>\n",
              "      <td>20.00</td>\n",
              "      <td>0.0</td>\n",
              "      <td>20.0</td>\n",
              "    </tr>\n",
              "    <tr>\n",
              "      <th>5</th>\n",
              "      <td>2024-08-07</td>\n",
              "      <td>2024-08-06</td>\n",
              "      <td>Utility Bill</td>\n",
              "      <td>120.00</td>\n",
              "      <td>0.0</td>\n",
              "      <td>120.0</td>\n",
              "    </tr>\n",
              "    <tr>\n",
              "      <th>6</th>\n",
              "      <td>2024-08-08</td>\n",
              "      <td>2024-08-07</td>\n",
              "      <td>ATM Withdrawal</td>\n",
              "      <td>200.00</td>\n",
              "      <td>0.0</td>\n",
              "      <td>200.0</td>\n",
              "    </tr>\n",
              "    <tr>\n",
              "      <th>7</th>\n",
              "      <td>2024-08-09</td>\n",
              "      <td>2024-08-08</td>\n",
              "      <td>Salary Credit</td>\n",
              "      <td>3000.00 CR</td>\n",
              "      <td>3000.0</td>\n",
              "      <td>0.0</td>\n",
              "    </tr>\n",
              "    <tr>\n",
              "      <th>8</th>\n",
              "      <td>2024-08-10</td>\n",
              "      <td>2024-08-09</td>\n",
              "      <td>Movie Tickets</td>\n",
              "      <td>30.00</td>\n",
              "      <td>0.0</td>\n",
              "      <td>30.0</td>\n",
              "    </tr>\n",
              "    <tr>\n",
              "      <th>9</th>\n",
              "      <td>2024-08-11</td>\n",
              "      <td>2024-08-10</td>\n",
              "      <td>Gym Membership</td>\n",
              "      <td>80.00</td>\n",
              "      <td>0.0</td>\n",
              "      <td>80.0</td>\n",
              "    </tr>\n",
              "    <tr>\n",
              "      <th>10</th>\n",
              "      <td>2024-08-12</td>\n",
              "      <td>2024-08-11</td>\n",
              "      <td>Refund - Online Purchase</td>\n",
              "      <td>50.00 CR</td>\n",
              "      <td>50.0</td>\n",
              "      <td>0.0</td>\n",
              "    </tr>\n",
              "    <tr>\n",
              "      <th>11</th>\n",
              "      <td>2024-08-13</td>\n",
              "      <td>2024-08-12</td>\n",
              "      <td>Airline Ticket</td>\n",
              "      <td>500.00</td>\n",
              "      <td>0.0</td>\n",
              "      <td>500.0</td>\n",
              "    </tr>\n",
              "  </tbody>\n",
              "</table>\n",
              "</div>"
            ],
            "text/plain": [
              "     Post Date  Trans Date Description of Transaction Transaction Amount SGD  \\\n",
              "0   2024-08-02  2024-08-01              Grocery Store                  50.00   \n",
              "1   2024-08-02  2024-08-02            Online Purchase                 100.00   \n",
              "2   2024-08-04  2024-08-03                 Restaurant                  75.50   \n",
              "3   2024-08-05  2024-08-04        Credit Card Payment              200.00 CR   \n",
              "4   2024-08-06  2024-08-05                       Taxi                  20.00   \n",
              "5   2024-08-07  2024-08-06               Utility Bill                 120.00   \n",
              "6   2024-08-08  2024-08-07             ATM Withdrawal                 200.00   \n",
              "7   2024-08-09  2024-08-08              Salary Credit             3000.00 CR   \n",
              "8   2024-08-10  2024-08-09              Movie Tickets                  30.00   \n",
              "9   2024-08-11  2024-08-10             Gym Membership                  80.00   \n",
              "10  2024-08-12  2024-08-11   Refund - Online Purchase               50.00 CR   \n",
              "11  2024-08-13  2024-08-12             Airline Ticket                 500.00   \n",
              "\n",
              "    Credit  Debit  \n",
              "0      0.0   50.0  \n",
              "1      0.0  100.0  \n",
              "2      0.0   75.5  \n",
              "3    200.0    0.0  \n",
              "4      0.0   20.0  \n",
              "5      0.0  120.0  \n",
              "6      0.0  200.0  \n",
              "7   3000.0    0.0  \n",
              "8      0.0   30.0  \n",
              "9      0.0   80.0  \n",
              "10    50.0    0.0  \n",
              "11     0.0  500.0  "
            ]
          },
          "execution_count": 7,
          "metadata": {},
          "output_type": "execute_result"
        }
      ],
      "source": [
        "# Create new columns for Credit and Debit\n",
        "df['Credit'] = df['Transaction Amount SGD'].apply(lambda x: float(x.replace(' CR', '')) if 'CR' in x else 0)\n",
        "df['Debit'] = df['Transaction Amount SGD'].apply(lambda x: float(x) if 'CR' not in x else 0)\n",
        "\n",
        "print(df.shape)\n",
        "df"
      ]
    }
  ],
  "metadata": {
    "kernelspec": {
      "display_name": "creditcard",
      "language": "python",
      "name": "python3"
    },
    "language_info": {
      "codemirror_mode": {
        "name": "ipython",
        "version": 3
      },
      "file_extension": ".py",
      "mimetype": "text/x-python",
      "name": "python",
      "nbconvert_exporter": "python",
      "pygments_lexer": "ipython3",
      "version": "3.11.9"
    },
    "colab": {
      "provenance": [],
      "include_colab_link": true
    }
  },
  "nbformat": 4,
  "nbformat_minor": 0
}